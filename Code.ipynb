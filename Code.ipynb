{
 "cells": [
  {
   "cell_type": "code",
   "execution_count": 1,
   "id": "HdQjHf1RQgbd",
   "metadata": {
    "colab": {
     "base_uri": "https://localhost:8080/"
    },
    "id": "HdQjHf1RQgbd",
    "outputId": "7a5d240d-5aae-4348-a2c7-e4857c84dafb"
   },
   "outputs": [],
   "source": [
    "#pip install scikit-plot"
   ]
  },
  {
   "cell_type": "code",
   "execution_count": 2,
   "id": "7e43b139",
   "metadata": {
    "id": "7e43b139"
   },
   "outputs": [],
   "source": [
    "import pandas as pd\n",
    "import numpy as np\n",
    "import matplotlib.pyplot as plt\n",
    "import seaborn as sns\n",
    "import scikitplot\n",
    "from imblearn.under_sampling import RandomUnderSampler\n",
    "from imblearn.over_sampling import SMOTE\n",
    "from sklearn.impute import SimpleImputer, KNNImputer\n",
    "from sklearn.preprocessing import MinMaxScaler, StandardScaler\n",
    "from sklearn.model_selection import train_test_split, KFold, cross_val_score\n",
    "from sklearn.ensemble import RandomForestClassifier, GradientBoostingClassifier\n",
    "from sklearn.metrics import classification_report, confusion_matrix, accuracy_score\n",
    "from sklearn.neighbors import KNeighborsClassifier\n",
    "from sklearn.tree import DecisionTreeClassifier\n",
    "from sklearn.model_selection import GridSearchCV\n",
    "from tensorflow.keras.layers import Dense, Flatten\n",
    "from tensorflow.keras.optimizers import Adam\n",
    "import tensorflow.keras.backend as K\n",
    "from tensorflow.keras.models import Sequential,Model\n",
    "from tensorflow.keras.callbacks import Callback, EarlyStopping, ReduceLROnPlateau"
   ]
  },
  {
   "cell_type": "code",
   "execution_count": 3,
   "id": "80509637",
   "metadata": {
    "colab": {
     "base_uri": "https://localhost:8080/",
     "height": 302
    },
    "id": "80509637",
    "outputId": "d05408e5-161a-4592-ff00-2eb59bbb03cf"
   },
   "outputs": [
    {
     "data": {
      "text/html": [
       "<div>\n",
       "<style scoped>\n",
       "    .dataframe tbody tr th:only-of-type {\n",
       "        vertical-align: middle;\n",
       "    }\n",
       "\n",
       "    .dataframe tbody tr th {\n",
       "        vertical-align: top;\n",
       "    }\n",
       "\n",
       "    .dataframe thead th {\n",
       "        text-align: right;\n",
       "    }\n",
       "</style>\n",
       "<table border=\"1\" class=\"dataframe\">\n",
       "  <thead>\n",
       "    <tr style=\"text-align: right;\">\n",
       "      <th></th>\n",
       "      <th>CAL_DT</th>\n",
       "      <th>MODEL_NAME</th>\n",
       "      <th>BRAND_FULL_NAME</th>\n",
       "      <th>BRAND_NAME</th>\n",
       "      <th>VENDOR_NAME</th>\n",
       "      <th>OS_NAME</th>\n",
       "      <th>DEVICE_TYPE</th>\n",
       "      <th>_2G_FLG</th>\n",
       "      <th>_3G_FLG</th>\n",
       "      <th>_4G_FLG</th>\n",
       "      <th>WIFI_FLG</th>\n",
       "      <th>BLUETOOTH_FLG</th>\n",
       "      <th>TOUCH_SCREEN_FLG</th>\n",
       "      <th>DUAL_SIM_FLG</th>\n",
       "      <th>GENDER_TYPE_CD</th>\n",
       "      <th>AGE_B</th>\n",
       "      <th>NATIONALITY_CD</th>\n",
       "      <th>NATIONALITY_NAME</th>\n",
       "      <th>SAUDI_NON_SAUDI</th>\n",
       "      <th>DEVICE_COUNT</th>\n",
       "    </tr>\n",
       "  </thead>\n",
       "  <tbody>\n",
       "    <tr>\n",
       "      <th>0</th>\n",
       "      <td>1/31/2019</td>\n",
       "      <td>One x9</td>\n",
       "      <td>HTC One x9</td>\n",
       "      <td>HTC</td>\n",
       "      <td>Google</td>\n",
       "      <td>Android</td>\n",
       "      <td>Smartphone</td>\n",
       "      <td>Y</td>\n",
       "      <td>Y</td>\n",
       "      <td>Y</td>\n",
       "      <td>Y</td>\n",
       "      <td>Y</td>\n",
       "      <td>Y</td>\n",
       "      <td>Y</td>\n",
       "      <td>Male</td>\n",
       "      <td>36-55</td>\n",
       "      <td>LKA</td>\n",
       "      <td>Sri Lanka</td>\n",
       "      <td>Non-Saudi</td>\n",
       "      <td>9</td>\n",
       "    </tr>\n",
       "    <tr>\n",
       "      <th>1</th>\n",
       "      <td>5/31/2020</td>\n",
       "      <td>X2-00</td>\n",
       "      <td>Nokia X2-00</td>\n",
       "      <td>Nokia</td>\n",
       "      <td>Nokia</td>\n",
       "      <td>Proprietary</td>\n",
       "      <td>Mobile Phone</td>\n",
       "      <td>Y</td>\n",
       "      <td>N</td>\n",
       "      <td>N</td>\n",
       "      <td>N</td>\n",
       "      <td>Y</td>\n",
       "      <td>N</td>\n",
       "      <td>N</td>\n",
       "      <td>Male</td>\n",
       "      <td>&lt;18</td>\n",
       "      <td>NaN</td>\n",
       "      <td>NaN</td>\n",
       "      <td>Non-Saudi</td>\n",
       "      <td>1</td>\n",
       "    </tr>\n",
       "    <tr>\n",
       "      <th>2</th>\n",
       "      <td>1/31/2019</td>\n",
       "      <td>Desire 626 NFC Dual Sim</td>\n",
       "      <td>HTC Desire 626 NFC Dual Sim</td>\n",
       "      <td>HTC</td>\n",
       "      <td>Google</td>\n",
       "      <td>Android</td>\n",
       "      <td>Smartphone</td>\n",
       "      <td>Y</td>\n",
       "      <td>Y</td>\n",
       "      <td>Y</td>\n",
       "      <td>Y</td>\n",
       "      <td>Y</td>\n",
       "      <td>Y</td>\n",
       "      <td>Y</td>\n",
       "      <td>NaN</td>\n",
       "      <td>26-35</td>\n",
       "      <td>SAU</td>\n",
       "      <td>Saudi Arabia</td>\n",
       "      <td>Saudi</td>\n",
       "      <td>1</td>\n",
       "    </tr>\n",
       "    <tr>\n",
       "      <th>3</th>\n",
       "      <td>12/31/2019</td>\n",
       "      <td>C7-00</td>\n",
       "      <td>Nokia C7-00</td>\n",
       "      <td>Nokia</td>\n",
       "      <td>Nokia</td>\n",
       "      <td>Symbian</td>\n",
       "      <td>Smartphone</td>\n",
       "      <td>Y</td>\n",
       "      <td>Y</td>\n",
       "      <td>N</td>\n",
       "      <td>Y</td>\n",
       "      <td>Y</td>\n",
       "      <td>Y</td>\n",
       "      <td>N</td>\n",
       "      <td>Male</td>\n",
       "      <td>18-25</td>\n",
       "      <td>BGD</td>\n",
       "      <td>Bangladesh</td>\n",
       "      <td>Non-Saudi</td>\n",
       "      <td>2</td>\n",
       "    </tr>\n",
       "    <tr>\n",
       "      <th>4</th>\n",
       "      <td>9/30/2019</td>\n",
       "      <td>1202</td>\n",
       "      <td>Nokia 1202</td>\n",
       "      <td>Nokia</td>\n",
       "      <td>Nokia</td>\n",
       "      <td>Proprietary</td>\n",
       "      <td>Mobile Phone</td>\n",
       "      <td>Y</td>\n",
       "      <td>N</td>\n",
       "      <td>N</td>\n",
       "      <td>N</td>\n",
       "      <td>N</td>\n",
       "      <td>N</td>\n",
       "      <td>N</td>\n",
       "      <td>NaN</td>\n",
       "      <td>36-55</td>\n",
       "      <td>BGD</td>\n",
       "      <td>Bangladesh</td>\n",
       "      <td>Non-Saudi</td>\n",
       "      <td>4</td>\n",
       "    </tr>\n",
       "  </tbody>\n",
       "</table>\n",
       "</div>"
      ],
      "text/plain": [
       "       CAL_DT               MODEL_NAME              BRAND_FULL_NAME  \\\n",
       "0   1/31/2019                   One x9                   HTC One x9   \n",
       "1   5/31/2020                    X2-00                  Nokia X2-00   \n",
       "2   1/31/2019  Desire 626 NFC Dual Sim  HTC Desire 626 NFC Dual Sim   \n",
       "3  12/31/2019                    C7-00                  Nokia C7-00   \n",
       "4   9/30/2019                     1202                   Nokia 1202   \n",
       "\n",
       "  BRAND_NAME VENDOR_NAME      OS_NAME   DEVICE_TYPE _2G_FLG _3G_FLG _4G_FLG  \\\n",
       "0        HTC      Google      Android    Smartphone       Y       Y       Y   \n",
       "1      Nokia       Nokia  Proprietary  Mobile Phone       Y       N       N   \n",
       "2        HTC      Google      Android    Smartphone       Y       Y       Y   \n",
       "3      Nokia       Nokia      Symbian    Smartphone       Y       Y       N   \n",
       "4      Nokia       Nokia  Proprietary  Mobile Phone       Y       N       N   \n",
       "\n",
       "  WIFI_FLG BLUETOOTH_FLG TOUCH_SCREEN_FLG DUAL_SIM_FLG GENDER_TYPE_CD  AGE_B  \\\n",
       "0        Y             Y                Y            Y           Male  36-55   \n",
       "1        N             Y                N            N           Male  <18     \n",
       "2        Y             Y                Y            Y            NaN  26-35   \n",
       "3        Y             Y                Y            N           Male  18-25   \n",
       "4        N             N                N            N            NaN  36-55   \n",
       "\n",
       "  NATIONALITY_CD NATIONALITY_NAME SAUDI_NON_SAUDI  DEVICE_COUNT  \n",
       "0            LKA        Sri Lanka       Non-Saudi             9  \n",
       "1            NaN              NaN       Non-Saudi             1  \n",
       "2            SAU     Saudi Arabia           Saudi             1  \n",
       "3            BGD       Bangladesh       Non-Saudi             2  \n",
       "4            BGD       Bangladesh       Non-Saudi             4  "
      ]
     },
     "execution_count": 3,
     "metadata": {},
     "output_type": "execute_result"
    }
   ],
   "source": [
    "data= pd.read_csv('Handests Open Dataset - Data CSV Extract.txt', on_bad_lines='skip')\n",
    "#data.to_csv('Handests Open Dataset - Data CSV Extract.csv', index=None)\n",
    "data.head()"
   ]
  },
  {
   "cell_type": "code",
   "execution_count": 4,
   "id": "96508773",
   "metadata": {
    "colab": {
     "base_uri": "https://localhost:8080/",
     "height": 302
    },
    "id": "96508773",
    "outputId": "35edd866-f5d7-4921-cd00-782f74d10ea8"
   },
   "outputs": [
    {
     "data": {
      "text/html": [
       "<div>\n",
       "<style scoped>\n",
       "    .dataframe tbody tr th:only-of-type {\n",
       "        vertical-align: middle;\n",
       "    }\n",
       "\n",
       "    .dataframe tbody tr th {\n",
       "        vertical-align: top;\n",
       "    }\n",
       "\n",
       "    .dataframe thead th {\n",
       "        text-align: right;\n",
       "    }\n",
       "</style>\n",
       "<table border=\"1\" class=\"dataframe\">\n",
       "  <thead>\n",
       "    <tr style=\"text-align: right;\">\n",
       "      <th></th>\n",
       "      <th>CAL_DT</th>\n",
       "      <th>MODEL_NAME</th>\n",
       "      <th>BRAND_FULL_NAME</th>\n",
       "      <th>BRAND_NAME</th>\n",
       "      <th>VENDOR_NAME</th>\n",
       "      <th>OS_NAME</th>\n",
       "      <th>DEVICE_TYPE</th>\n",
       "      <th>_2G_FLG</th>\n",
       "      <th>_3G_FLG</th>\n",
       "      <th>_4G_FLG</th>\n",
       "      <th>WIFI_FLG</th>\n",
       "      <th>BLUETOOTH_FLG</th>\n",
       "      <th>TOUCH_SCREEN_FLG</th>\n",
       "      <th>DUAL_SIM_FLG</th>\n",
       "      <th>GENDER_TYPE_CD</th>\n",
       "      <th>NATIONALITY_CD</th>\n",
       "      <th>NATIONALITY_NAME</th>\n",
       "      <th>SAUDI_NON_SAUDI</th>\n",
       "      <th>DEVICE_COUNT</th>\n",
       "      <th>AGE_B</th>\n",
       "    </tr>\n",
       "  </thead>\n",
       "  <tbody>\n",
       "    <tr>\n",
       "      <th>0</th>\n",
       "      <td>1/31/2019</td>\n",
       "      <td>One x9</td>\n",
       "      <td>HTC One x9</td>\n",
       "      <td>HTC</td>\n",
       "      <td>Google</td>\n",
       "      <td>Android</td>\n",
       "      <td>Smartphone</td>\n",
       "      <td>Y</td>\n",
       "      <td>Y</td>\n",
       "      <td>Y</td>\n",
       "      <td>Y</td>\n",
       "      <td>Y</td>\n",
       "      <td>Y</td>\n",
       "      <td>Y</td>\n",
       "      <td>Male</td>\n",
       "      <td>LKA</td>\n",
       "      <td>Sri Lanka</td>\n",
       "      <td>Non-Saudi</td>\n",
       "      <td>9</td>\n",
       "      <td>36-55</td>\n",
       "    </tr>\n",
       "    <tr>\n",
       "      <th>1</th>\n",
       "      <td>5/31/2020</td>\n",
       "      <td>X2-00</td>\n",
       "      <td>Nokia X2-00</td>\n",
       "      <td>Nokia</td>\n",
       "      <td>Nokia</td>\n",
       "      <td>Proprietary</td>\n",
       "      <td>Mobile Phone</td>\n",
       "      <td>Y</td>\n",
       "      <td>N</td>\n",
       "      <td>N</td>\n",
       "      <td>N</td>\n",
       "      <td>Y</td>\n",
       "      <td>N</td>\n",
       "      <td>N</td>\n",
       "      <td>Male</td>\n",
       "      <td>NaN</td>\n",
       "      <td>NaN</td>\n",
       "      <td>Non-Saudi</td>\n",
       "      <td>1</td>\n",
       "      <td>&lt;18</td>\n",
       "    </tr>\n",
       "    <tr>\n",
       "      <th>2</th>\n",
       "      <td>1/31/2019</td>\n",
       "      <td>Desire 626 NFC Dual Sim</td>\n",
       "      <td>HTC Desire 626 NFC Dual Sim</td>\n",
       "      <td>HTC</td>\n",
       "      <td>Google</td>\n",
       "      <td>Android</td>\n",
       "      <td>Smartphone</td>\n",
       "      <td>Y</td>\n",
       "      <td>Y</td>\n",
       "      <td>Y</td>\n",
       "      <td>Y</td>\n",
       "      <td>Y</td>\n",
       "      <td>Y</td>\n",
       "      <td>Y</td>\n",
       "      <td>NaN</td>\n",
       "      <td>SAU</td>\n",
       "      <td>Saudi Arabia</td>\n",
       "      <td>Saudi</td>\n",
       "      <td>1</td>\n",
       "      <td>26-35</td>\n",
       "    </tr>\n",
       "    <tr>\n",
       "      <th>3</th>\n",
       "      <td>12/31/2019</td>\n",
       "      <td>C7-00</td>\n",
       "      <td>Nokia C7-00</td>\n",
       "      <td>Nokia</td>\n",
       "      <td>Nokia</td>\n",
       "      <td>Symbian</td>\n",
       "      <td>Smartphone</td>\n",
       "      <td>Y</td>\n",
       "      <td>Y</td>\n",
       "      <td>N</td>\n",
       "      <td>Y</td>\n",
       "      <td>Y</td>\n",
       "      <td>Y</td>\n",
       "      <td>N</td>\n",
       "      <td>Male</td>\n",
       "      <td>BGD</td>\n",
       "      <td>Bangladesh</td>\n",
       "      <td>Non-Saudi</td>\n",
       "      <td>2</td>\n",
       "      <td>18-25</td>\n",
       "    </tr>\n",
       "    <tr>\n",
       "      <th>4</th>\n",
       "      <td>9/30/2019</td>\n",
       "      <td>1202</td>\n",
       "      <td>Nokia 1202</td>\n",
       "      <td>Nokia</td>\n",
       "      <td>Nokia</td>\n",
       "      <td>Proprietary</td>\n",
       "      <td>Mobile Phone</td>\n",
       "      <td>Y</td>\n",
       "      <td>N</td>\n",
       "      <td>N</td>\n",
       "      <td>N</td>\n",
       "      <td>N</td>\n",
       "      <td>N</td>\n",
       "      <td>N</td>\n",
       "      <td>NaN</td>\n",
       "      <td>BGD</td>\n",
       "      <td>Bangladesh</td>\n",
       "      <td>Non-Saudi</td>\n",
       "      <td>4</td>\n",
       "      <td>36-55</td>\n",
       "    </tr>\n",
       "  </tbody>\n",
       "</table>\n",
       "</div>"
      ],
      "text/plain": [
       "       CAL_DT               MODEL_NAME              BRAND_FULL_NAME  \\\n",
       "0   1/31/2019                   One x9                   HTC One x9   \n",
       "1   5/31/2020                    X2-00                  Nokia X2-00   \n",
       "2   1/31/2019  Desire 626 NFC Dual Sim  HTC Desire 626 NFC Dual Sim   \n",
       "3  12/31/2019                    C7-00                  Nokia C7-00   \n",
       "4   9/30/2019                     1202                   Nokia 1202   \n",
       "\n",
       "  BRAND_NAME VENDOR_NAME      OS_NAME   DEVICE_TYPE _2G_FLG _3G_FLG _4G_FLG  \\\n",
       "0        HTC      Google      Android    Smartphone       Y       Y       Y   \n",
       "1      Nokia       Nokia  Proprietary  Mobile Phone       Y       N       N   \n",
       "2        HTC      Google      Android    Smartphone       Y       Y       Y   \n",
       "3      Nokia       Nokia      Symbian    Smartphone       Y       Y       N   \n",
       "4      Nokia       Nokia  Proprietary  Mobile Phone       Y       N       N   \n",
       "\n",
       "  WIFI_FLG BLUETOOTH_FLG TOUCH_SCREEN_FLG DUAL_SIM_FLG GENDER_TYPE_CD  \\\n",
       "0        Y             Y                Y            Y           Male   \n",
       "1        N             Y                N            N           Male   \n",
       "2        Y             Y                Y            Y            NaN   \n",
       "3        Y             Y                Y            N           Male   \n",
       "4        N             N                N            N            NaN   \n",
       "\n",
       "  NATIONALITY_CD NATIONALITY_NAME SAUDI_NON_SAUDI  DEVICE_COUNT  AGE_B  \n",
       "0            LKA        Sri Lanka       Non-Saudi             9  36-55  \n",
       "1            NaN              NaN       Non-Saudi             1  <18    \n",
       "2            SAU     Saudi Arabia           Saudi             1  26-35  \n",
       "3            BGD       Bangladesh       Non-Saudi             2  18-25  \n",
       "4            BGD       Bangladesh       Non-Saudi             4  36-55  "
      ]
     },
     "execution_count": 4,
     "metadata": {},
     "output_type": "execute_result"
    }
   ],
   "source": [
    "data= data[['CAL_DT', 'MODEL_NAME', 'BRAND_FULL_NAME', 'BRAND_NAME', 'VENDOR_NAME', 'OS_NAME', 'DEVICE_TYPE', \n",
    "    '_2G_FLG', '_3G_FLG', '_4G_FLG', 'WIFI_FLG', 'BLUETOOTH_FLG', 'TOUCH_SCREEN_FLG', 'DUAL_SIM_FLG', \n",
    "    'GENDER_TYPE_CD', 'NATIONALITY_CD', 'NATIONALITY_NAME', 'SAUDI_NON_SAUDI', 'DEVICE_COUNT', 'AGE_B']]\n",
    "data.head()"
   ]
  },
  {
   "cell_type": "code",
   "execution_count": 5,
   "id": "9dd8c7d6",
   "metadata": {
    "colab": {
     "base_uri": "https://localhost:8080/"
    },
    "id": "9dd8c7d6",
    "outputId": "490b3774-1985-49ee-a9f2-78bfc63233f3"
   },
   "outputs": [
    {
     "name": "stdout",
     "output_type": "stream",
     "text": [
      "<class 'pandas.core.frame.DataFrame'>\n",
      "RangeIndex: 3137816 entries, 0 to 3137815\n",
      "Data columns (total 20 columns):\n",
      " #   Column            Dtype \n",
      "---  ------            ----- \n",
      " 0   CAL_DT            object\n",
      " 1   MODEL_NAME        object\n",
      " 2   BRAND_FULL_NAME   object\n",
      " 3   BRAND_NAME        object\n",
      " 4   VENDOR_NAME       object\n",
      " 5   OS_NAME           object\n",
      " 6   DEVICE_TYPE       object\n",
      " 7   _2G_FLG           object\n",
      " 8   _3G_FLG           object\n",
      " 9   _4G_FLG           object\n",
      " 10  WIFI_FLG          object\n",
      " 11  BLUETOOTH_FLG     object\n",
      " 12  TOUCH_SCREEN_FLG  object\n",
      " 13  DUAL_SIM_FLG      object\n",
      " 14  GENDER_TYPE_CD    object\n",
      " 15  NATIONALITY_CD    object\n",
      " 16  NATIONALITY_NAME  object\n",
      " 17  SAUDI_NON_SAUDI   object\n",
      " 18  DEVICE_COUNT      int64 \n",
      " 19  AGE_B             object\n",
      "dtypes: int64(1), object(19)\n",
      "memory usage: 478.8+ MB\n"
     ]
    }
   ],
   "source": [
    "data.info()"
   ]
  },
  {
   "cell_type": "code",
   "execution_count": 6,
   "id": "18e771c3",
   "metadata": {
    "colab": {
     "base_uri": "https://localhost:8080/"
    },
    "id": "18e771c3",
    "outputId": "113c8d22-520f-4800-d61f-9d62ccc2af41"
   },
   "outputs": [
    {
     "data": {
      "text/plain": [
       "(3137816, 20)"
      ]
     },
     "execution_count": 6,
     "metadata": {},
     "output_type": "execute_result"
    }
   ],
   "source": [
    "data.shape"
   ]
  },
  {
   "cell_type": "code",
   "execution_count": 7,
   "id": "c1197328",
   "metadata": {
    "colab": {
     "base_uri": "https://localhost:8080/",
     "height": 297
    },
    "id": "c1197328",
    "outputId": "9dd2bf09-bc23-47fc-ff91-ed6a05aa3aef"
   },
   "outputs": [
    {
     "data": {
      "text/html": [
       "<div>\n",
       "<style scoped>\n",
       "    .dataframe tbody tr th:only-of-type {\n",
       "        vertical-align: middle;\n",
       "    }\n",
       "\n",
       "    .dataframe tbody tr th {\n",
       "        vertical-align: top;\n",
       "    }\n",
       "\n",
       "    .dataframe thead th {\n",
       "        text-align: right;\n",
       "    }\n",
       "</style>\n",
       "<table border=\"1\" class=\"dataframe\">\n",
       "  <thead>\n",
       "    <tr style=\"text-align: right;\">\n",
       "      <th></th>\n",
       "      <th>DEVICE_COUNT</th>\n",
       "    </tr>\n",
       "  </thead>\n",
       "  <tbody>\n",
       "    <tr>\n",
       "      <th>count</th>\n",
       "      <td>3.137816e+06</td>\n",
       "    </tr>\n",
       "    <tr>\n",
       "      <th>mean</th>\n",
       "      <td>2.861259e+01</td>\n",
       "    </tr>\n",
       "    <tr>\n",
       "      <th>std</th>\n",
       "      <td>4.124590e+02</td>\n",
       "    </tr>\n",
       "    <tr>\n",
       "      <th>min</th>\n",
       "      <td>1.000000e+00</td>\n",
       "    </tr>\n",
       "    <tr>\n",
       "      <th>25%</th>\n",
       "      <td>1.000000e+00</td>\n",
       "    </tr>\n",
       "    <tr>\n",
       "      <th>50%</th>\n",
       "      <td>2.000000e+00</td>\n",
       "    </tr>\n",
       "    <tr>\n",
       "      <th>75%</th>\n",
       "      <td>6.000000e+00</td>\n",
       "    </tr>\n",
       "    <tr>\n",
       "      <th>max</th>\n",
       "      <td>5.452100e+04</td>\n",
       "    </tr>\n",
       "  </tbody>\n",
       "</table>\n",
       "</div>"
      ],
      "text/plain": [
       "       DEVICE_COUNT\n",
       "count  3.137816e+06\n",
       "mean   2.861259e+01\n",
       "std    4.124590e+02\n",
       "min    1.000000e+00\n",
       "25%    1.000000e+00\n",
       "50%    2.000000e+00\n",
       "75%    6.000000e+00\n",
       "max    5.452100e+04"
      ]
     },
     "execution_count": 7,
     "metadata": {},
     "output_type": "execute_result"
    }
   ],
   "source": [
    "data.describe()"
   ]
  },
  {
   "cell_type": "code",
   "execution_count": 8,
   "id": "b8dff9e2",
   "metadata": {
    "id": "b8dff9e2"
   },
   "outputs": [],
   "source": [
    "data = data.replace('Z', np.nan)\n",
    "data = data.replace('unknown', 'Other')\n",
    "data = data.replace('NA   ', np.nan)"
   ]
  },
  {
   "cell_type": "code",
   "execution_count": 9,
   "id": "15783aeb",
   "metadata": {
    "colab": {
     "base_uri": "https://localhost:8080/"
    },
    "id": "15783aeb",
    "outputId": "ffd298f6-3d8d-4c5b-affe-097c4dfd58ce"
   },
   "outputs": [
    {
     "data": {
      "text/plain": [
       "CAL_DT                   0\n",
       "MODEL_NAME               0\n",
       "BRAND_FULL_NAME          0\n",
       "BRAND_NAME               0\n",
       "VENDOR_NAME              0\n",
       "OS_NAME                  0\n",
       "DEVICE_TYPE              0\n",
       "_2G_FLG                  0\n",
       "_3G_FLG                  0\n",
       "_4G_FLG                  0\n",
       "WIFI_FLG             36462\n",
       "BLUETOOTH_FLG         5375\n",
       "TOUCH_SCREEN_FLG     11982\n",
       "DUAL_SIM_FLG          5023\n",
       "GENDER_TYPE_CD      376740\n",
       "NATIONALITY_CD      317927\n",
       "NATIONALITY_NAME    317922\n",
       "SAUDI_NON_SAUDI          0\n",
       "DEVICE_COUNT             0\n",
       "AGE_B               481613\n",
       "dtype: int64"
      ]
     },
     "execution_count": 9,
     "metadata": {},
     "output_type": "execute_result"
    }
   ],
   "source": [
    "data.isnull().sum()"
   ]
  },
  {
   "cell_type": "code",
   "execution_count": 10,
   "id": "996f50b9",
   "metadata": {
    "id": "996f50b9"
   },
   "outputs": [],
   "source": [
    "data= data.dropna()"
   ]
  },
  {
   "cell_type": "code",
   "execution_count": 11,
   "id": "7b5e5cb7",
   "metadata": {
    "colab": {
     "base_uri": "https://localhost:8080/"
    },
    "id": "7b5e5cb7",
    "outputId": "2718facb-e08e-4fa5-ed88-9c92370e3b32"
   },
   "outputs": [
    {
     "data": {
      "text/plain": [
       "(2114730, 20)"
      ]
     },
     "execution_count": 11,
     "metadata": {},
     "output_type": "execute_result"
    }
   ],
   "source": [
    "data.shape"
   ]
  },
  {
   "cell_type": "code",
   "execution_count": 12,
   "id": "2088d079",
   "metadata": {
    "colab": {
     "base_uri": "https://localhost:8080/",
     "height": 285
    },
    "id": "2088d079",
    "outputId": "57294d77-73c6-48c0-f40e-b08b7651bfa3"
   },
   "outputs": [
    {
     "data": {
      "text/html": [
       "<div>\n",
       "<style scoped>\n",
       "    .dataframe tbody tr th:only-of-type {\n",
       "        vertical-align: middle;\n",
       "    }\n",
       "\n",
       "    .dataframe tbody tr th {\n",
       "        vertical-align: top;\n",
       "    }\n",
       "\n",
       "    .dataframe thead th {\n",
       "        text-align: right;\n",
       "    }\n",
       "</style>\n",
       "<table border=\"1\" class=\"dataframe\">\n",
       "  <thead>\n",
       "    <tr style=\"text-align: right;\">\n",
       "      <th></th>\n",
       "      <th>CAL_DT</th>\n",
       "      <th>MODEL_NAME</th>\n",
       "      <th>BRAND_FULL_NAME</th>\n",
       "      <th>BRAND_NAME</th>\n",
       "      <th>VENDOR_NAME</th>\n",
       "      <th>OS_NAME</th>\n",
       "      <th>DEVICE_TYPE</th>\n",
       "      <th>_2G_FLG</th>\n",
       "      <th>_3G_FLG</th>\n",
       "      <th>_4G_FLG</th>\n",
       "      <th>WIFI_FLG</th>\n",
       "      <th>BLUETOOTH_FLG</th>\n",
       "      <th>TOUCH_SCREEN_FLG</th>\n",
       "      <th>DUAL_SIM_FLG</th>\n",
       "      <th>GENDER_TYPE_CD</th>\n",
       "      <th>NATIONALITY_CD</th>\n",
       "      <th>NATIONALITY_NAME</th>\n",
       "      <th>SAUDI_NON_SAUDI</th>\n",
       "      <th>DEVICE_COUNT</th>\n",
       "      <th>AGE_B</th>\n",
       "    </tr>\n",
       "  </thead>\n",
       "  <tbody>\n",
       "    <tr>\n",
       "      <th>0</th>\n",
       "      <td>1/31/2019</td>\n",
       "      <td>One x9</td>\n",
       "      <td>HTC One x9</td>\n",
       "      <td>HTC</td>\n",
       "      <td>Google</td>\n",
       "      <td>Android</td>\n",
       "      <td>Smartphone</td>\n",
       "      <td>Y</td>\n",
       "      <td>Y</td>\n",
       "      <td>Y</td>\n",
       "      <td>Y</td>\n",
       "      <td>Y</td>\n",
       "      <td>Y</td>\n",
       "      <td>Y</td>\n",
       "      <td>Male</td>\n",
       "      <td>LKA</td>\n",
       "      <td>Sri Lanka</td>\n",
       "      <td>Non-Saudi</td>\n",
       "      <td>9</td>\n",
       "      <td>36-55</td>\n",
       "    </tr>\n",
       "    <tr>\n",
       "      <th>1</th>\n",
       "      <td>12/31/2019</td>\n",
       "      <td>C7-00</td>\n",
       "      <td>Nokia C7-00</td>\n",
       "      <td>Nokia</td>\n",
       "      <td>Nokia</td>\n",
       "      <td>Symbian</td>\n",
       "      <td>Smartphone</td>\n",
       "      <td>Y</td>\n",
       "      <td>Y</td>\n",
       "      <td>N</td>\n",
       "      <td>Y</td>\n",
       "      <td>Y</td>\n",
       "      <td>Y</td>\n",
       "      <td>N</td>\n",
       "      <td>Male</td>\n",
       "      <td>BGD</td>\n",
       "      <td>Bangladesh</td>\n",
       "      <td>Non-Saudi</td>\n",
       "      <td>2</td>\n",
       "      <td>18-25</td>\n",
       "    </tr>\n",
       "    <tr>\n",
       "      <th>2</th>\n",
       "      <td>4/30/2020</td>\n",
       "      <td>Blade V7 Lite</td>\n",
       "      <td>ZTE Blade V7 Lite</td>\n",
       "      <td>ZTE</td>\n",
       "      <td>Google</td>\n",
       "      <td>Android</td>\n",
       "      <td>Smartphone</td>\n",
       "      <td>Y</td>\n",
       "      <td>Y</td>\n",
       "      <td>Y</td>\n",
       "      <td>Y</td>\n",
       "      <td>Y</td>\n",
       "      <td>Y</td>\n",
       "      <td>Y</td>\n",
       "      <td>Female</td>\n",
       "      <td>IDN</td>\n",
       "      <td>Indonesia</td>\n",
       "      <td>Non-Saudi</td>\n",
       "      <td>1</td>\n",
       "      <td>&gt;55</td>\n",
       "    </tr>\n",
       "    <tr>\n",
       "      <th>3</th>\n",
       "      <td>8/31/2019</td>\n",
       "      <td>i6 Metal ONE</td>\n",
       "      <td>QMobile i6 Metal ONE</td>\n",
       "      <td>QMobile</td>\n",
       "      <td>Google</td>\n",
       "      <td>Android</td>\n",
       "      <td>Smartphone</td>\n",
       "      <td>Y</td>\n",
       "      <td>Y</td>\n",
       "      <td>N</td>\n",
       "      <td>Y</td>\n",
       "      <td>Y</td>\n",
       "      <td>Y</td>\n",
       "      <td>Y</td>\n",
       "      <td>Male</td>\n",
       "      <td>EGY</td>\n",
       "      <td>Egypt</td>\n",
       "      <td>Non-Saudi</td>\n",
       "      <td>1</td>\n",
       "      <td>36-55</td>\n",
       "    </tr>\n",
       "    <tr>\n",
       "      <th>4</th>\n",
       "      <td>6/30/2019</td>\n",
       "      <td>One M9</td>\n",
       "      <td>HTC One M9</td>\n",
       "      <td>HTC</td>\n",
       "      <td>Google</td>\n",
       "      <td>Android</td>\n",
       "      <td>Smartphone</td>\n",
       "      <td>Y</td>\n",
       "      <td>Y</td>\n",
       "      <td>Y</td>\n",
       "      <td>Y</td>\n",
       "      <td>Y</td>\n",
       "      <td>Y</td>\n",
       "      <td>N</td>\n",
       "      <td>Male</td>\n",
       "      <td>SYR</td>\n",
       "      <td>Syria</td>\n",
       "      <td>Non-Saudi</td>\n",
       "      <td>21</td>\n",
       "      <td>26-35</td>\n",
       "    </tr>\n",
       "  </tbody>\n",
       "</table>\n",
       "</div>"
      ],
      "text/plain": [
       "       CAL_DT     MODEL_NAME       BRAND_FULL_NAME BRAND_NAME VENDOR_NAME  \\\n",
       "0   1/31/2019         One x9            HTC One x9        HTC      Google   \n",
       "1  12/31/2019          C7-00           Nokia C7-00      Nokia       Nokia   \n",
       "2   4/30/2020  Blade V7 Lite     ZTE Blade V7 Lite        ZTE      Google   \n",
       "3   8/31/2019   i6 Metal ONE  QMobile i6 Metal ONE    QMobile      Google   \n",
       "4   6/30/2019         One M9            HTC One M9        HTC      Google   \n",
       "\n",
       "   OS_NAME DEVICE_TYPE _2G_FLG _3G_FLG _4G_FLG WIFI_FLG BLUETOOTH_FLG  \\\n",
       "0  Android  Smartphone       Y       Y       Y        Y             Y   \n",
       "1  Symbian  Smartphone       Y       Y       N        Y             Y   \n",
       "2  Android  Smartphone       Y       Y       Y        Y             Y   \n",
       "3  Android  Smartphone       Y       Y       N        Y             Y   \n",
       "4  Android  Smartphone       Y       Y       Y        Y             Y   \n",
       "\n",
       "  TOUCH_SCREEN_FLG DUAL_SIM_FLG GENDER_TYPE_CD NATIONALITY_CD  \\\n",
       "0                Y            Y           Male            LKA   \n",
       "1                Y            N           Male            BGD   \n",
       "2                Y            Y         Female            IDN   \n",
       "3                Y            Y           Male            EGY   \n",
       "4                Y            N           Male            SYR   \n",
       "\n",
       "  NATIONALITY_NAME SAUDI_NON_SAUDI  DEVICE_COUNT  AGE_B  \n",
       "0        Sri Lanka       Non-Saudi             9  36-55  \n",
       "1       Bangladesh       Non-Saudi             2  18-25  \n",
       "2        Indonesia       Non-Saudi             1  >55    \n",
       "3            Egypt       Non-Saudi             1  36-55  \n",
       "4            Syria       Non-Saudi            21  26-35  "
      ]
     },
     "execution_count": 12,
     "metadata": {},
     "output_type": "execute_result"
    }
   ],
   "source": [
    "data= data.reset_index(drop=True)\n",
    "data.head()"
   ]
  },
  {
   "cell_type": "code",
   "execution_count": 13,
   "id": "eae9e214",
   "metadata": {
    "id": "eae9e214"
   },
   "outputs": [],
   "source": [
    "att= ['CAL_DT', 'MODEL_NAME', 'BRAND_FULL_NAME', 'BRAND_NAME', 'VENDOR_NAME', 'OS_NAME', 'DEVICE_TYPE', \n",
    "    '_2G_FLG', '_3G_FLG', '_4G_FLG', 'WIFI_FLG', 'BLUETOOTH_FLG', 'TOUCH_SCREEN_FLG', 'DUAL_SIM_FLG', \n",
    "    'GENDER_TYPE_CD', 'NATIONALITY_CD', 'NATIONALITY_NAME', 'SAUDI_NON_SAUDI', 'DEVICE_COUNT', 'AGE_B']"
   ]
  },
  {
   "cell_type": "code",
   "execution_count": 14,
   "id": "0635f6d3",
   "metadata": {
    "colab": {
     "base_uri": "https://localhost:8080/"
    },
    "id": "0635f6d3",
    "outputId": "c508ecd7-73eb-4598-d779-76d6f03eb8b2"
   },
   "outputs": [
    {
     "name": "stdout",
     "output_type": "stream",
     "text": [
      "10/31/2019    95569\n",
      "11/30/2019    95062\n",
      "12/31/2019    94784\n",
      "2/29/2020     93971\n",
      "1/31/2020     93955\n",
      "3/31/2020     93657\n",
      "4/30/2020     93195\n",
      "5/31/2020     92477\n",
      "6/30/2020     91714\n",
      "7/31/2020     90297\n",
      "8/31/2020     89248\n",
      "9/30/2020     89043\n",
      "10/31/2020    87972\n",
      "8/31/2019     87101\n",
      "9/30/2019     86838\n",
      "6/30/2019     86048\n",
      "7/31/2019     85756\n",
      "5/31/2019     85221\n",
      "4/30/2019     84325\n",
      "3/31/2019     82868\n",
      "2/28/2019     81575\n",
      "1/31/2019     79760\n",
      "12/31/2018    77433\n",
      "11/30/2018    76861\n",
      "Name: CAL_DT, dtype: int64\n",
      "------------------\n",
      "206               12448\n",
      "105               12140\n",
      "150 Dual SIM      12100\n",
      "105 (2015)        11958\n",
      "1 Dual Sim        11552\n",
      "                  ...  \n",
      "Duo 405             106\n",
      "P20                  75\n",
      "R1S                  59\n",
      "x1                   24\n",
      "V869 and i9+++        3\n",
      "Name: MODEL_NAME, Length: 921, dtype: int64\n",
      "------------------\n",
      "Nokia 105             12140\n",
      "Nokia 150 Dual SIM    12100\n",
      "Nokia 105 (2015)      11958\n",
      "Nokia 230 Dual SIM    11233\n",
      "Nokia 108 Dual SIM    11223\n",
      "                      ...  \n",
      "KGTEL C88                 2\n",
      "I KALL K9                 1\n",
      "ZTE V5                    1\n",
      "Gee Pee 6230              1\n",
      "Darago ONE                1\n",
      "Name: BRAND_FULL_NAME, Length: 1156, dtype: int64\n",
      "------------------\n",
      "Nokia      650549\n",
      "Lenovo     136827\n",
      "HTC        127206\n",
      "Xiaomi     116567\n",
      "Sony       113399\n",
      "            ...  \n",
      "Hiro            3\n",
      "Anycool         3\n",
      "Siemens         2\n",
      "I KALL          1\n",
      "Gee Pee         1\n",
      "Name: BRAND_NAME, Length: 181, dtype: int64\n",
      "------------------\n",
      "Google                    1241983\n",
      "Nokia                      502183\n",
      "Symbian LTD                 62205\n",
      "Alcatel                     42727\n",
      "RIM                         22766\n",
      "                           ...   \n",
      "G.M                             3\n",
      "Goldgoal International          3\n",
      "Anycool                         3\n",
      "Siemens                         2\n",
      "GEEPEE                          1\n",
      "Name: VENDOR_NAME, Length: 110, dtype: int64\n",
      "------------------\n",
      "Android           1241983\n",
      "Proprietary        693142\n",
      "Symbian             71406\n",
      "Other               54392\n",
      "RIM OS              22766\n",
      "Windows Phone       19327\n",
      "BlackBerry OS       11506\n",
      "Windows Mobile        208\n",
      "Name: OS_NAME, dtype: int64\n",
      "------------------\n",
      "Smartphone      1373050\n",
      "Mobile Phone     741680\n",
      "Name: DEVICE_TYPE, dtype: int64\n",
      "------------------\n",
      "Y    2113697\n",
      "N       1033\n",
      "Name: _2G_FLG, dtype: int64\n",
      "------------------\n",
      "Y    1406571\n",
      "N     708159\n",
      "Name: _3G_FLG, dtype: int64\n",
      "------------------\n",
      "N    1108474\n",
      "Y    1006256\n",
      "Name: _4G_FLG, dtype: int64\n",
      "------------------\n",
      "Y    1412751\n",
      "N     701979\n",
      "Name: WIFI_FLG, dtype: int64\n",
      "------------------\n",
      "Y    1912506\n",
      "N     202224\n",
      "Name: BLUETOOTH_FLG, dtype: int64\n",
      "------------------\n",
      "Y    1347226\n",
      "N     767504\n",
      "Name: TOUCH_SCREEN_FLG, dtype: int64\n",
      "------------------\n",
      "Y    1581731\n",
      "N     532999\n",
      "Name: DUAL_SIM_FLG, dtype: int64\n",
      "------------------\n",
      "Male      1413547\n",
      "Female     701183\n",
      "Name: GENDER_TYPE_CD, dtype: int64\n",
      "------------------\n",
      "IND    135743\n",
      "SAU    125490\n",
      "YEM    118877\n",
      "EGY    116617\n",
      "PAK    115794\n",
      "        ...  \n",
      "GLP         6\n",
      "SLV         6\n",
      "SMR         4\n",
      "CCK         3\n",
      "LCA         3\n",
      "Name: NATIONALITY_CD, Length: 206, dtype: int64\n",
      "------------------\n",
      "India            135743\n",
      "Saudi Arabia     125490\n",
      "Yemen            118877\n",
      "Egypt            116617\n",
      "Pakistan         115794\n",
      "                  ...  \n",
      "Guadeloupe            6\n",
      "El Salvador           6\n",
      "San Marino            4\n",
      "Cocos Islands         3\n",
      "Saint Lucia           3\n",
      "Name: NATIONALITY_NAME, Length: 206, dtype: int64\n",
      "------------------\n",
      "Non-Saudi    1989240\n",
      "Saudi         125490\n",
      "Name: SAUDI_NON_SAUDI, dtype: int64\n",
      "------------------\n",
      "1        890738\n",
      "2        303184\n",
      "3        162522\n",
      "4        104059\n",
      "5         73911\n",
      "          ...  \n",
      "8628          1\n",
      "3643          1\n",
      "13963         1\n",
      "5201          1\n",
      "20535         1\n",
      "Name: DEVICE_COUNT, Length: 4922, dtype: int64\n",
      "------------------\n",
      "36-55    726025\n",
      "26-35    555073\n",
      ">55      484572\n",
      "18-25    271508\n",
      "<18       77552\n",
      "Name: AGE_B, dtype: int64\n",
      "------------------\n"
     ]
    }
   ],
   "source": [
    "for i in att:\n",
    "    print(data[i].value_counts())\n",
    "    print('------------------')"
   ]
  },
  {
   "cell_type": "code",
   "execution_count": 15,
   "id": "bba5df54",
   "metadata": {
    "id": "bba5df54"
   },
   "outputs": [],
   "source": [
    "data = data.drop(['CAL_DT'],axis=1)\n",
    "data = data.drop(['MODEL_NAME'],axis=1)\n",
    "data = data.drop(['BRAND_FULL_NAME'],axis=1)\n",
    "data = data.drop(['NATIONALITY_CD'],axis=1)"
   ]
  },
  {
   "cell_type": "code",
   "execution_count": 16,
   "id": "df81cdc0",
   "metadata": {
    "id": "df81cdc0"
   },
   "outputs": [],
   "source": [
    "data.drop_duplicates(keep='first', inplace=True)"
   ]
  },
  {
   "cell_type": "code",
   "execution_count": 17,
   "id": "82f66cf6",
   "metadata": {
    "colab": {
     "base_uri": "https://localhost:8080/"
    },
    "id": "82f66cf6",
    "outputId": "99f8fe91-5e26-447a-d76e-59f8fa2b1b92"
   },
   "outputs": [
    {
     "data": {
      "text/plain": [
       "(283278, 16)"
      ]
     },
     "execution_count": 17,
     "metadata": {},
     "output_type": "execute_result"
    }
   ],
   "source": [
    "data.shape"
   ]
  },
  {
   "cell_type": "code",
   "execution_count": 18,
   "id": "631bf451",
   "metadata": {
    "colab": {
     "base_uri": "https://localhost:8080/"
    },
    "id": "631bf451",
    "outputId": "4589ad5c-e4d6-43d7-c11e-6ca58d714d3b"
   },
   "outputs": [
    {
     "name": "stdout",
     "output_type": "stream",
     "text": [
      "['36-55' '18-25' '>55  ' '26-35' '<18  ']\n"
     ]
    }
   ],
   "source": [
    "print(str(data['AGE_B'].unique()))"
   ]
  },
  {
   "cell_type": "code",
   "execution_count": 19,
   "id": "720884bc",
   "metadata": {
    "colab": {
     "base_uri": "https://localhost:8080/",
     "height": 693
    },
    "id": "720884bc",
    "outputId": "1c56094a-75c1-4384-9b62-0cec2f5d1ba8"
   },
   "outputs": [
    {
     "name": "stderr",
     "output_type": "stream",
     "text": [
      "/var/folders/f0/cwn3lmm51vz9072rsychz2z40000gn/T/ipykernel_1451/618438299.py:3: SettingWithCopyWarning: \n",
      "A value is trying to be set on a copy of a slice from a DataFrame\n",
      "\n",
      "See the caveats in the documentation: https://pandas.pydata.org/pandas-docs/stable/user_guide/indexing.html#returning-a-view-versus-a-copy\n",
      "  data['Age_Group'][(data.AGE_B=='<18  ')]= 'Young'\n",
      "/var/folders/f0/cwn3lmm51vz9072rsychz2z40000gn/T/ipykernel_1451/618438299.py:4: SettingWithCopyWarning: \n",
      "A value is trying to be set on a copy of a slice from a DataFrame\n",
      "\n",
      "See the caveats in the documentation: https://pandas.pydata.org/pandas-docs/stable/user_guide/indexing.html#returning-a-view-versus-a-copy\n",
      "  data['Age_Group'][(data.AGE_B=='18-25')]= 'Adult'\n",
      "/var/folders/f0/cwn3lmm51vz9072rsychz2z40000gn/T/ipykernel_1451/618438299.py:5: SettingWithCopyWarning: \n",
      "A value is trying to be set on a copy of a slice from a DataFrame\n",
      "\n",
      "See the caveats in the documentation: https://pandas.pydata.org/pandas-docs/stable/user_guide/indexing.html#returning-a-view-versus-a-copy\n",
      "  data['Age_Group'][(data.AGE_B=='26-35')]= 'Adult'\n",
      "/var/folders/f0/cwn3lmm51vz9072rsychz2z40000gn/T/ipykernel_1451/618438299.py:6: SettingWithCopyWarning: \n",
      "A value is trying to be set on a copy of a slice from a DataFrame\n",
      "\n",
      "See the caveats in the documentation: https://pandas.pydata.org/pandas-docs/stable/user_guide/indexing.html#returning-a-view-versus-a-copy\n",
      "  data['Age_Group'][(data.AGE_B=='36-55')]= 'Adult'\n",
      "/var/folders/f0/cwn3lmm51vz9072rsychz2z40000gn/T/ipykernel_1451/618438299.py:7: SettingWithCopyWarning: \n",
      "A value is trying to be set on a copy of a slice from a DataFrame\n",
      "\n",
      "See the caveats in the documentation: https://pandas.pydata.org/pandas-docs/stable/user_guide/indexing.html#returning-a-view-versus-a-copy\n",
      "  data['Age_Group'][(data.AGE_B=='>55  ')]= 'Old'\n"
     ]
    },
    {
     "data": {
      "text/html": [
       "<div>\n",
       "<style scoped>\n",
       "    .dataframe tbody tr th:only-of-type {\n",
       "        vertical-align: middle;\n",
       "    }\n",
       "\n",
       "    .dataframe tbody tr th {\n",
       "        vertical-align: top;\n",
       "    }\n",
       "\n",
       "    .dataframe thead th {\n",
       "        text-align: right;\n",
       "    }\n",
       "</style>\n",
       "<table border=\"1\" class=\"dataframe\">\n",
       "  <thead>\n",
       "    <tr style=\"text-align: right;\">\n",
       "      <th></th>\n",
       "      <th>BRAND_NAME</th>\n",
       "      <th>VENDOR_NAME</th>\n",
       "      <th>OS_NAME</th>\n",
       "      <th>DEVICE_TYPE</th>\n",
       "      <th>_2G_FLG</th>\n",
       "      <th>_3G_FLG</th>\n",
       "      <th>_4G_FLG</th>\n",
       "      <th>WIFI_FLG</th>\n",
       "      <th>BLUETOOTH_FLG</th>\n",
       "      <th>TOUCH_SCREEN_FLG</th>\n",
       "      <th>DUAL_SIM_FLG</th>\n",
       "      <th>GENDER_TYPE_CD</th>\n",
       "      <th>NATIONALITY_NAME</th>\n",
       "      <th>SAUDI_NON_SAUDI</th>\n",
       "      <th>DEVICE_COUNT</th>\n",
       "      <th>Age_Group</th>\n",
       "    </tr>\n",
       "  </thead>\n",
       "  <tbody>\n",
       "    <tr>\n",
       "      <th>0</th>\n",
       "      <td>HTC</td>\n",
       "      <td>Google</td>\n",
       "      <td>Android</td>\n",
       "      <td>Smartphone</td>\n",
       "      <td>Y</td>\n",
       "      <td>Y</td>\n",
       "      <td>Y</td>\n",
       "      <td>Y</td>\n",
       "      <td>Y</td>\n",
       "      <td>Y</td>\n",
       "      <td>Y</td>\n",
       "      <td>Male</td>\n",
       "      <td>Sri Lanka</td>\n",
       "      <td>Non-Saudi</td>\n",
       "      <td>9</td>\n",
       "      <td>Adult</td>\n",
       "    </tr>\n",
       "    <tr>\n",
       "      <th>1</th>\n",
       "      <td>Nokia</td>\n",
       "      <td>Nokia</td>\n",
       "      <td>Symbian</td>\n",
       "      <td>Smartphone</td>\n",
       "      <td>Y</td>\n",
       "      <td>Y</td>\n",
       "      <td>N</td>\n",
       "      <td>Y</td>\n",
       "      <td>Y</td>\n",
       "      <td>Y</td>\n",
       "      <td>N</td>\n",
       "      <td>Male</td>\n",
       "      <td>Bangladesh</td>\n",
       "      <td>Non-Saudi</td>\n",
       "      <td>2</td>\n",
       "      <td>Adult</td>\n",
       "    </tr>\n",
       "    <tr>\n",
       "      <th>2</th>\n",
       "      <td>ZTE</td>\n",
       "      <td>Google</td>\n",
       "      <td>Android</td>\n",
       "      <td>Smartphone</td>\n",
       "      <td>Y</td>\n",
       "      <td>Y</td>\n",
       "      <td>Y</td>\n",
       "      <td>Y</td>\n",
       "      <td>Y</td>\n",
       "      <td>Y</td>\n",
       "      <td>Y</td>\n",
       "      <td>Female</td>\n",
       "      <td>Indonesia</td>\n",
       "      <td>Non-Saudi</td>\n",
       "      <td>1</td>\n",
       "      <td>Old</td>\n",
       "    </tr>\n",
       "    <tr>\n",
       "      <th>3</th>\n",
       "      <td>QMobile</td>\n",
       "      <td>Google</td>\n",
       "      <td>Android</td>\n",
       "      <td>Smartphone</td>\n",
       "      <td>Y</td>\n",
       "      <td>Y</td>\n",
       "      <td>N</td>\n",
       "      <td>Y</td>\n",
       "      <td>Y</td>\n",
       "      <td>Y</td>\n",
       "      <td>Y</td>\n",
       "      <td>Male</td>\n",
       "      <td>Egypt</td>\n",
       "      <td>Non-Saudi</td>\n",
       "      <td>1</td>\n",
       "      <td>Adult</td>\n",
       "    </tr>\n",
       "    <tr>\n",
       "      <th>4</th>\n",
       "      <td>HTC</td>\n",
       "      <td>Google</td>\n",
       "      <td>Android</td>\n",
       "      <td>Smartphone</td>\n",
       "      <td>Y</td>\n",
       "      <td>Y</td>\n",
       "      <td>Y</td>\n",
       "      <td>Y</td>\n",
       "      <td>Y</td>\n",
       "      <td>Y</td>\n",
       "      <td>N</td>\n",
       "      <td>Male</td>\n",
       "      <td>Syria</td>\n",
       "      <td>Non-Saudi</td>\n",
       "      <td>21</td>\n",
       "      <td>Adult</td>\n",
       "    </tr>\n",
       "  </tbody>\n",
       "</table>\n",
       "</div>"
      ],
      "text/plain": [
       "  BRAND_NAME VENDOR_NAME  OS_NAME DEVICE_TYPE _2G_FLG _3G_FLG _4G_FLG  \\\n",
       "0        HTC      Google  Android  Smartphone       Y       Y       Y   \n",
       "1      Nokia       Nokia  Symbian  Smartphone       Y       Y       N   \n",
       "2        ZTE      Google  Android  Smartphone       Y       Y       Y   \n",
       "3    QMobile      Google  Android  Smartphone       Y       Y       N   \n",
       "4        HTC      Google  Android  Smartphone       Y       Y       Y   \n",
       "\n",
       "  WIFI_FLG BLUETOOTH_FLG TOUCH_SCREEN_FLG DUAL_SIM_FLG GENDER_TYPE_CD  \\\n",
       "0        Y             Y                Y            Y           Male   \n",
       "1        Y             Y                Y            N           Male   \n",
       "2        Y             Y                Y            Y         Female   \n",
       "3        Y             Y                Y            Y           Male   \n",
       "4        Y             Y                Y            N           Male   \n",
       "\n",
       "  NATIONALITY_NAME SAUDI_NON_SAUDI  DEVICE_COUNT Age_Group  \n",
       "0        Sri Lanka       Non-Saudi             9     Adult  \n",
       "1       Bangladesh       Non-Saudi             2     Adult  \n",
       "2        Indonesia       Non-Saudi             1       Old  \n",
       "3            Egypt       Non-Saudi             1     Adult  \n",
       "4            Syria       Non-Saudi            21     Adult  "
      ]
     },
     "execution_count": 19,
     "metadata": {},
     "output_type": "execute_result"
    }
   ],
   "source": [
    "data['Age_Group']=data['AGE_B']\n",
    "\n",
    "data['Age_Group'][(data.AGE_B=='<18  ')]= 'Young'\n",
    "data['Age_Group'][(data.AGE_B=='18-25')]= 'Adult'\n",
    "data['Age_Group'][(data.AGE_B=='26-35')]= 'Adult'\n",
    "data['Age_Group'][(data.AGE_B=='36-55')]= 'Adult'\n",
    "data['Age_Group'][(data.AGE_B=='>55  ')]= 'Old'\n",
    "data = data.drop('AGE_B', axis=1)\n",
    "\n",
    "data['Age_Group']=data['Age_Group'].astype('category')\n",
    "\n",
    "data.head()"
   ]
  },
  {
   "cell_type": "code",
   "execution_count": 20,
   "id": "743ca943",
   "metadata": {
    "colab": {
     "base_uri": "https://localhost:8080/"
    },
    "id": "743ca943",
    "outputId": "508657e8-d7b1-4958-8b40-b71f0b034c6d"
   },
   "outputs": [
    {
     "data": {
      "text/plain": [
       "Adult    220210\n",
       "Old       53718\n",
       "Young      9350\n",
       "Name: Age_Group, dtype: int64"
      ]
     },
     "execution_count": 20,
     "metadata": {},
     "output_type": "execute_result"
    }
   ],
   "source": [
    "data['Age_Group'].value_counts()"
   ]
  },
  {
   "cell_type": "code",
   "execution_count": 21,
   "id": "908528e2",
   "metadata": {
    "colab": {
     "base_uri": "https://localhost:8080/"
    },
    "id": "908528e2",
    "outputId": "4d573c81-6e7c-434d-d70e-43722227a0ca"
   },
   "outputs": [
    {
     "data": {
      "text/plain": [
       "Adult    220210\n",
       "Old       53718\n",
       "Young      9350\n",
       "Name: Age_Group, dtype: int64"
      ]
     },
     "execution_count": 21,
     "metadata": {},
     "output_type": "execute_result"
    }
   ],
   "source": [
    "data['Age_Group'].value_counts()"
   ]
  },
  {
   "cell_type": "code",
   "execution_count": 22,
   "id": "746bcf56",
   "metadata": {
    "colab": {
     "base_uri": "https://localhost:8080/",
     "height": 351
    },
    "id": "746bcf56",
    "outputId": "7b4183a9-147e-42f6-c5ae-1f31a89c0941"
   },
   "outputs": [
    {
     "name": "stderr",
     "output_type": "stream",
     "text": [
      "/opt/homebrew/lib/python3.9/site-packages/seaborn/_decorators.py:36: FutureWarning: Pass the following variable as a keyword arg: x. From version 0.12, the only valid positional argument will be `data`, and passing other arguments without an explicit keyword will result in an error or misinterpretation.\n",
      "  warnings.warn(\n"
     ]
    },
    {
     "data": {
      "text/plain": [
       "<AxesSubplot:xlabel='Age_Group', ylabel='count'>"
      ]
     },
     "execution_count": 22,
     "metadata": {},
     "output_type": "execute_result"
    },
    {
     "data": {
      "image/png": "[encoded data removed]",
      "text/plain": [
       "<Figure size 432x288 with 1 Axes>"
      ]
     },
     "metadata": {
      "needs_background": "light"
     },
     "output_type": "display_data"
    }
   ],
   "source": [
    "sns.countplot('Age_Group', data=data)"
   ]
  },
  {
   "cell_type": "code",
   "execution_count": 23,
   "id": "5a86337d",
   "metadata": {
    "id": "5a86337d"
   },
   "outputs": [],
   "source": [
    "att=  ['BRAND_NAME', 'VENDOR_NAME', 'OS_NAME', 'DEVICE_TYPE', \n",
    "    '_2G_FLG', '_3G_FLG', '_4G_FLG', 'WIFI_FLG', 'BLUETOOTH_FLG', 'TOUCH_SCREEN_FLG', 'DUAL_SIM_FLG', \n",
    "    'GENDER_TYPE_CD', 'NATIONALITY_NAME', 'SAUDI_NON_SAUDI', 'Age_Group']"
   ]
  },
  {
   "cell_type": "code",
   "execution_count": 24,
   "id": "9a554e26",
   "metadata": {
    "id": "9a554e26"
   },
   "outputs": [],
   "source": [
    "for i in att:\n",
    "    data[i]= data[i].astype('category').cat.codes"
   ]
  },
  {
   "cell_type": "code",
   "execution_count": 25,
   "id": "342e12c8",
   "metadata": {
    "colab": {
     "base_uri": "https://localhost:8080/"
    },
    "id": "342e12c8",
    "outputId": "06c6af53-ca96-44d5-80c1-1bc5e50141e9"
   },
   "outputs": [
    {
     "data": {
      "text/plain": [
       "0    220210\n",
       "1     53718\n",
       "2      9350\n",
       "Name: Age_Group, dtype: int64"
      ]
     },
     "execution_count": 25,
     "metadata": {},
     "output_type": "execute_result"
    }
   ],
   "source": [
    "data['Age_Group'].value_counts()"
   ]
  },
  {
   "cell_type": "code",
   "execution_count": 26,
   "id": "d8e8c9c6",
   "metadata": {
    "colab": {
     "base_uri": "https://localhost:8080/",
     "height": 268
    },
    "id": "d8e8c9c6",
    "outputId": "48a5f33f-4214-4252-e007-3a34830f4585"
   },
   "outputs": [
    {
     "data": {
      "text/html": [
       "<div>\n",
       "<style scoped>\n",
       "    .dataframe tbody tr th:only-of-type {\n",
       "        vertical-align: middle;\n",
       "    }\n",
       "\n",
       "    .dataframe tbody tr th {\n",
       "        vertical-align: top;\n",
       "    }\n",
       "\n",
       "    .dataframe thead th {\n",
       "        text-align: right;\n",
       "    }\n",
       "</style>\n",
       "<table border=\"1\" class=\"dataframe\">\n",
       "  <thead>\n",
       "    <tr style=\"text-align: right;\">\n",
       "      <th></th>\n",
       "      <th>BRAND_NAME</th>\n",
       "      <th>VENDOR_NAME</th>\n",
       "      <th>OS_NAME</th>\n",
       "      <th>DEVICE_TYPE</th>\n",
       "      <th>_2G_FLG</th>\n",
       "      <th>_3G_FLG</th>\n",
       "      <th>_4G_FLG</th>\n",
       "      <th>WIFI_FLG</th>\n",
       "      <th>BLUETOOTH_FLG</th>\n",
       "      <th>TOUCH_SCREEN_FLG</th>\n",
       "      <th>DUAL_SIM_FLG</th>\n",
       "      <th>GENDER_TYPE_CD</th>\n",
       "      <th>NATIONALITY_NAME</th>\n",
       "      <th>SAUDI_NON_SAUDI</th>\n",
       "      <th>DEVICE_COUNT</th>\n",
       "      <th>Age_Group</th>\n",
       "    </tr>\n",
       "  </thead>\n",
       "  <tbody>\n",
       "    <tr>\n",
       "      <th>0</th>\n",
       "      <td>62</td>\n",
       "      <td>42</td>\n",
       "      <td>0</td>\n",
       "      <td>1</td>\n",
       "      <td>1</td>\n",
       "      <td>1</td>\n",
       "      <td>1</td>\n",
       "      <td>1</td>\n",
       "      <td>1</td>\n",
       "      <td>1</td>\n",
       "      <td>1</td>\n",
       "      <td>1</td>\n",
       "      <td>175</td>\n",
       "      <td>0</td>\n",
       "      <td>9</td>\n",
       "      <td>0</td>\n",
       "    </tr>\n",
       "    <tr>\n",
       "      <th>1</th>\n",
       "      <td>112</td>\n",
       "      <td>70</td>\n",
       "      <td>5</td>\n",
       "      <td>1</td>\n",
       "      <td>1</td>\n",
       "      <td>1</td>\n",
       "      <td>0</td>\n",
       "      <td>1</td>\n",
       "      <td>1</td>\n",
       "      <td>1</td>\n",
       "      <td>0</td>\n",
       "      <td>1</td>\n",
       "      <td>16</td>\n",
       "      <td>0</td>\n",
       "      <td>2</td>\n",
       "      <td>0</td>\n",
       "    </tr>\n",
       "    <tr>\n",
       "      <th>2</th>\n",
       "      <td>173</td>\n",
       "      <td>42</td>\n",
       "      <td>0</td>\n",
       "      <td>1</td>\n",
       "      <td>1</td>\n",
       "      <td>1</td>\n",
       "      <td>1</td>\n",
       "      <td>1</td>\n",
       "      <td>1</td>\n",
       "      <td>1</td>\n",
       "      <td>1</td>\n",
       "      <td>0</td>\n",
       "      <td>92</td>\n",
       "      <td>0</td>\n",
       "      <td>1</td>\n",
       "      <td>1</td>\n",
       "    </tr>\n",
       "    <tr>\n",
       "      <th>3</th>\n",
       "      <td>126</td>\n",
       "      <td>42</td>\n",
       "      <td>0</td>\n",
       "      <td>1</td>\n",
       "      <td>1</td>\n",
       "      <td>1</td>\n",
       "      <td>0</td>\n",
       "      <td>1</td>\n",
       "      <td>1</td>\n",
       "      <td>1</td>\n",
       "      <td>1</td>\n",
       "      <td>1</td>\n",
       "      <td>63</td>\n",
       "      <td>0</td>\n",
       "      <td>1</td>\n",
       "      <td>0</td>\n",
       "    </tr>\n",
       "    <tr>\n",
       "      <th>4</th>\n",
       "      <td>62</td>\n",
       "      <td>42</td>\n",
       "      <td>0</td>\n",
       "      <td>1</td>\n",
       "      <td>1</td>\n",
       "      <td>1</td>\n",
       "      <td>1</td>\n",
       "      <td>1</td>\n",
       "      <td>1</td>\n",
       "      <td>1</td>\n",
       "      <td>0</td>\n",
       "      <td>1</td>\n",
       "      <td>180</td>\n",
       "      <td>0</td>\n",
       "      <td>21</td>\n",
       "      <td>0</td>\n",
       "    </tr>\n",
       "  </tbody>\n",
       "</table>\n",
       "</div>"
      ],
      "text/plain": [
       "   BRAND_NAME  VENDOR_NAME  OS_NAME  DEVICE_TYPE  _2G_FLG  _3G_FLG  _4G_FLG  \\\n",
       "0          62           42        0            1        1        1        1   \n",
       "1         112           70        5            1        1        1        0   \n",
       "2         173           42        0            1        1        1        1   \n",
       "3         126           42        0            1        1        1        0   \n",
       "4          62           42        0            1        1        1        1   \n",
       "\n",
       "   WIFI_FLG  BLUETOOTH_FLG  TOUCH_SCREEN_FLG  DUAL_SIM_FLG  GENDER_TYPE_CD  \\\n",
       "0         1              1                 1             1               1   \n",
       "1         1              1                 1             0               1   \n",
       "2         1              1                 1             1               0   \n",
       "3         1              1                 1             1               1   \n",
       "4         1              1                 1             0               1   \n",
       "\n",
       "   NATIONALITY_NAME  SAUDI_NON_SAUDI  DEVICE_COUNT  Age_Group  \n",
       "0               175                0             9          0  \n",
       "1                16                0             2          0  \n",
       "2                92                0             1          1  \n",
       "3                63                0             1          0  \n",
       "4               180                0            21          0  "
      ]
     },
     "execution_count": 26,
     "metadata": {},
     "output_type": "execute_result"
    }
   ],
   "source": [
    "data.head()"
   ]
  },
  {
   "cell_type": "code",
   "execution_count": 27,
   "id": "84019250",
   "metadata": {
    "colab": {
     "base_uri": "https://localhost:8080/",
     "height": 565
    },
    "id": "84019250",
    "outputId": "e3d9a98d-6ae2-4b53-ddb8-f6c2b6f63f8f"
   },
   "outputs": [
    {
     "data": {
      "text/html": [
       "<style type=\"text/css\">\n",
       "#T_e711b_row0_col0, #T_e711b_row1_col1, #T_e711b_row2_col2, #T_e711b_row3_col3, #T_e711b_row4_col4, #T_e711b_row5_col5, #T_e711b_row6_col6, #T_e711b_row7_col7, #T_e711b_row8_col8, #T_e711b_row9_col9, #T_e711b_row10_col10, #T_e711b_row11_col11, #T_e711b_row12_col12, #T_e711b_row13_col13, #T_e711b_row14_col14, #T_e711b_row15_col15 {\n",
       "  background-color: #08306b;\n",
       "  color: #f1f1f1;\n",
       "}\n",
       "#T_e711b_row0_col1, #T_e711b_row2_col1 {\n",
       "  background-color: #3181bd;\n",
       "  color: #f1f1f1;\n",
       "}\n",
       "#T_e711b_row0_col2, #T_e711b_row11_col2 {\n",
       "  background-color: #81badb;\n",
       "  color: #000000;\n",
       "}\n",
       "#T_e711b_row0_col3, #T_e711b_row4_col2, #T_e711b_row4_col3, #T_e711b_row13_col7 {\n",
       "  background-color: #87bddc;\n",
       "  color: #000000;\n",
       "}\n",
       "#T_e711b_row0_col4, #T_e711b_row1_col12, #T_e711b_row5_col15, #T_e711b_row6_col15, #T_e711b_row8_col4, #T_e711b_row15_col4 {\n",
       "  background-color: #f5f9fe;\n",
       "  color: #000000;\n",
       "}\n",
       "#T_e711b_row0_col5 {\n",
       "  background-color: #8abfdd;\n",
       "  color: #000000;\n",
       "}\n",
       "#T_e711b_row0_col6, #T_e711b_row10_col5, #T_e711b_row13_col2 {\n",
       "  background-color: #84bcdb;\n",
       "  color: #000000;\n",
       "}\n",
       "#T_e711b_row0_col7, #T_e711b_row12_col2 {\n",
       "  background-color: #85bcdc;\n",
       "  color: #000000;\n",
       "}\n",
       "#T_e711b_row0_col8, #T_e711b_row4_col8 {\n",
       "  background-color: #cfe1f2;\n",
       "  color: #000000;\n",
       "}\n",
       "#T_e711b_row0_col9, #T_e711b_row10_col8 {\n",
       "  background-color: #7fb9da;\n",
       "  color: #000000;\n",
       "}\n",
       "#T_e711b_row0_col10 {\n",
       "  background-color: #d0e2f2;\n",
       "  color: #000000;\n",
       "}\n",
       "#T_e711b_row0_col11, #T_e711b_row4_col13, #T_e711b_row10_col12, #T_e711b_row11_col4 {\n",
       "  background-color: #f3f8fe;\n",
       "  color: #000000;\n",
       "}\n",
       "#T_e711b_row0_col12, #T_e711b_row1_col4, #T_e711b_row2_col3, #T_e711b_row2_col4, #T_e711b_row2_col5, #T_e711b_row2_col6, #T_e711b_row2_col7, #T_e711b_row2_col8, #T_e711b_row2_col9, #T_e711b_row2_col10, #T_e711b_row5_col4, #T_e711b_row5_col14, #T_e711b_row7_col14, #T_e711b_row9_col1, #T_e711b_row9_col2, #T_e711b_row9_col15, #T_e711b_row10_col0, #T_e711b_row10_col13, #T_e711b_row11_col12, #T_e711b_row11_col13, #T_e711b_row12_col11 {\n",
       "  background-color: #f7fbff;\n",
       "  color: #000000;\n",
       "}\n",
       "#T_e711b_row0_col13, #T_e711b_row3_col14, #T_e711b_row3_col15, #T_e711b_row9_col14, #T_e711b_row13_col11 {\n",
       "  background-color: #f6faff;\n",
       "  color: #000000;\n",
       "}\n",
       "#T_e711b_row0_col14 {\n",
       "  background-color: #dae8f6;\n",
       "  color: #000000;\n",
       "}\n",
       "#T_e711b_row0_col15 {\n",
       "  background-color: #e5eff9;\n",
       "  color: #000000;\n",
       "}\n",
       "#T_e711b_row1_col0 {\n",
       "  background-color: #549fcd;\n",
       "  color: #f1f1f1;\n",
       "}\n",
       "#T_e711b_row1_col2 {\n",
       "  background-color: #2171b5;\n",
       "  color: #f1f1f1;\n",
       "}\n",
       "#T_e711b_row1_col3 {\n",
       "  background-color: #d4e4f4;\n",
       "  color: #000000;\n",
       "}\n",
       "#T_e711b_row1_col5, #T_e711b_row1_col9, #T_e711b_row13_col14, #T_e711b_row15_col8 {\n",
       "  background-color: #d3e4f3;\n",
       "  color: #000000;\n",
       "}\n",
       "#T_e711b_row1_col6 {\n",
       "  background-color: #d7e6f5;\n",
       "  color: #000000;\n",
       "}\n",
       "#T_e711b_row1_col7, #T_e711b_row8_col1 {\n",
       "  background-color: #d2e3f3;\n",
       "  color: #000000;\n",
       "}\n",
       "#T_e711b_row1_col8, #T_e711b_row5_col12, #T_e711b_row9_col0, #T_e711b_row15_col0, #T_e711b_row15_col12 {\n",
       "  background-color: #eaf2fb;\n",
       "  color: #000000;\n",
       "}\n",
       "#T_e711b_row1_col10, #T_e711b_row6_col4, #T_e711b_row10_col11, #T_e711b_row11_col0 {\n",
       "  background-color: #f0f6fd;\n",
       "  color: #000000;\n",
       "}\n",
       "#T_e711b_row1_col11, #T_e711b_row2_col12, #T_e711b_row13_col0 {\n",
       "  background-color: #f2f7fd;\n",
       "  color: #000000;\n",
       "}\n",
       "#T_e711b_row1_col13, #T_e711b_row7_col15, #T_e711b_row13_col4 {\n",
       "  background-color: #f5fafe;\n",
       "  color: #000000;\n",
       "}\n",
       "#T_e711b_row1_col14 {\n",
       "  background-color: #d1e2f3;\n",
       "  color: #000000;\n",
       "}\n",
       "#T_e711b_row1_col15 {\n",
       "  background-color: #dbe9f6;\n",
       "  color: #000000;\n",
       "}\n",
       "#T_e711b_row2_col0, #T_e711b_row7_col2 {\n",
       "  background-color: #eaf3fb;\n",
       "  color: #000000;\n",
       "}\n",
       "#T_e711b_row2_col11, #T_e711b_row3_col2, #T_e711b_row3_col4, #T_e711b_row3_col11, #T_e711b_row4_col0, #T_e711b_row5_col11, #T_e711b_row6_col12, #T_e711b_row6_col14, #T_e711b_row7_col4, #T_e711b_row9_col4, #T_e711b_row10_col15, #T_e711b_row14_col12, #T_e711b_row15_col11 {\n",
       "  background-color: #eef5fc;\n",
       "  color: #000000;\n",
       "}\n",
       "#T_e711b_row2_col13, #T_e711b_row4_col12, #T_e711b_row8_col14 {\n",
       "  background-color: #f1f7fd;\n",
       "  color: #000000;\n",
       "}\n",
       "#T_e711b_row2_col14 {\n",
       "  background-color: #d6e6f4;\n",
       "  color: #000000;\n",
       "}\n",
       "#T_e711b_row2_col15, #T_e711b_row13_col15 {\n",
       "  background-color: #d9e7f5;\n",
       "  color: #000000;\n",
       "}\n",
       "#T_e711b_row3_col0, #T_e711b_row11_col15 {\n",
       "  background-color: #e7f0fa;\n",
       "  color: #000000;\n",
       "}\n",
       "#T_e711b_row3_col1, #T_e711b_row4_col11, #T_e711b_row7_col11, #T_e711b_row8_col0, #T_e711b_row8_col15, #T_e711b_row9_col11 {\n",
       "  background-color: #eff6fc;\n",
       "  color: #000000;\n",
       "}\n",
       "#T_e711b_row3_col5, #T_e711b_row5_col7 {\n",
       "  background-color: #08458a;\n",
       "  color: #f1f1f1;\n",
       "}\n",
       "#T_e711b_row3_col6 {\n",
       "  background-color: #1966ad;\n",
       "  color: #f1f1f1;\n",
       "}\n",
       "#T_e711b_row3_col7, #T_e711b_row7_col3 {\n",
       "  background-color: #083d7f;\n",
       "  color: #f1f1f1;\n",
       "}\n",
       "#T_e711b_row3_col8, #T_e711b_row5_col8 {\n",
       "  background-color: #5ca4d0;\n",
       "  color: #f1f1f1;\n",
       "}\n",
       "#T_e711b_row3_col9 {\n",
       "  background-color: #084082;\n",
       "  color: #f1f1f1;\n",
       "}\n",
       "#T_e711b_row3_col10 {\n",
       "  background-color: #add0e6;\n",
       "  color: #000000;\n",
       "}\n",
       "#T_e711b_row3_col12, #T_e711b_row7_col12, #T_e711b_row8_col11, #T_e711b_row8_col12, #T_e711b_row9_col12, #T_e711b_row10_col4 {\n",
       "  background-color: #ebf3fb;\n",
       "  color: #000000;\n",
       "}\n",
       "#T_e711b_row3_col13, #T_e711b_row5_col13, #T_e711b_row7_col13, #T_e711b_row15_col14 {\n",
       "  background-color: #e7f1fa;\n",
       "  color: #000000;\n",
       "}\n",
       "#T_e711b_row4_col1 {\n",
       "  background-color: #b5d4e9;\n",
       "  color: #000000;\n",
       "}\n",
       "#T_e711b_row4_col5, #T_e711b_row14_col9 {\n",
       "  background-color: #9dcae1;\n",
       "  color: #000000;\n",
       "}\n",
       "#T_e711b_row4_col6, #T_e711b_row12_col5, #T_e711b_row13_col6 {\n",
       "  background-color: #91c3de;\n",
       "  color: #000000;\n",
       "}\n",
       "#T_e711b_row4_col7, #T_e711b_row11_col3, #T_e711b_row12_col7 {\n",
       "  background-color: #8cc0dd;\n",
       "  color: #000000;\n",
       "}\n",
       "#T_e711b_row4_col9, #T_e711b_row12_col9 {\n",
       "  background-color: #7db8da;\n",
       "  color: #000000;\n",
       "}\n",
       "#T_e711b_row4_col10 {\n",
       "  background-color: #bfd8ed;\n",
       "  color: #000000;\n",
       "}\n",
       "#T_e711b_row4_col14, #T_e711b_row15_col13 {\n",
       "  background-color: #e1edf8;\n",
       "  color: #000000;\n",
       "}\n",
       "#T_e711b_row4_col15, #T_e711b_row7_col1, #T_e711b_row9_col13 {\n",
       "  background-color: #e9f2fa;\n",
       "  color: #000000;\n",
       "}\n",
       "#T_e711b_row5_col0, #T_e711b_row10_col14, #T_e711b_row12_col15 {\n",
       "  background-color: #e2edf8;\n",
       "  color: #000000;\n",
       "}\n",
       "#T_e711b_row5_col1, #T_e711b_row5_col2 {\n",
       "  background-color: #e6f0f9;\n",
       "  color: #000000;\n",
       "}\n",
       "#T_e711b_row5_col3, #T_e711b_row9_col7 {\n",
       "  background-color: #084488;\n",
       "  color: #f1f1f1;\n",
       "}\n",
       "#T_e711b_row5_col6, #T_e711b_row6_col5, #T_e711b_row6_col7 {\n",
       "  background-color: #1b69af;\n",
       "  color: #f1f1f1;\n",
       "}\n",
       "#T_e711b_row5_col9 {\n",
       "  background-color: #084c95;\n",
       "  color: #f1f1f1;\n",
       "}\n",
       "#T_e711b_row5_col10 {\n",
       "  background-color: #b4d3e9;\n",
       "  color: #000000;\n",
       "}\n",
       "#T_e711b_row6_col0 {\n",
       "  background-color: #dfebf7;\n",
       "  color: #000000;\n",
       "}\n",
       "#T_e711b_row6_col1, #T_e711b_row6_col11, #T_e711b_row6_col13, #T_e711b_row14_col15 {\n",
       "  background-color: #edf4fc;\n",
       "  color: #000000;\n",
       "}\n",
       "#T_e711b_row6_col2, #T_e711b_row8_col13 {\n",
       "  background-color: #e8f1fa;\n",
       "  color: #000000;\n",
       "}\n",
       "#T_e711b_row6_col3, #T_e711b_row9_col6 {\n",
       "  background-color: #1865ac;\n",
       "  color: #f1f1f1;\n",
       "}\n",
       "#T_e711b_row6_col8, #T_e711b_row11_col9, #T_e711b_row13_col3 {\n",
       "  background-color: #82bbdb;\n",
       "  color: #000000;\n",
       "}\n",
       "#T_e711b_row6_col9 {\n",
       "  background-color: #1561a9;\n",
       "  color: #f1f1f1;\n",
       "}\n",
       "#T_e711b_row6_col10 {\n",
       "  background-color: #9fcae1;\n",
       "  color: #000000;\n",
       "}\n",
       "#T_e711b_row7_col0 {\n",
       "  background-color: #e3eef9;\n",
       "  color: #000000;\n",
       "}\n",
       "#T_e711b_row7_col5 {\n",
       "  background-color: #08468b;\n",
       "  color: #f1f1f1;\n",
       "}\n",
       "#T_e711b_row7_col6 {\n",
       "  background-color: #1c6ab0;\n",
       "  color: #f1f1f1;\n",
       "}\n",
       "#T_e711b_row7_col8 {\n",
       "  background-color: #56a0ce;\n",
       "  color: #f1f1f1;\n",
       "}\n",
       "#T_e711b_row7_col9 {\n",
       "  background-color: #084387;\n",
       "  color: #f1f1f1;\n",
       "}\n",
       "#T_e711b_row7_col10, #T_e711b_row11_col1 {\n",
       "  background-color: #b3d3e8;\n",
       "  color: #000000;\n",
       "}\n",
       "#T_e711b_row8_col2 {\n",
       "  background-color: #b9d6ea;\n",
       "  color: #000000;\n",
       "}\n",
       "#T_e711b_row8_col3 {\n",
       "  background-color: #3989c1;\n",
       "  color: #f1f1f1;\n",
       "}\n",
       "#T_e711b_row8_col5 {\n",
       "  background-color: #3c8cc3;\n",
       "  color: #f1f1f1;\n",
       "}\n",
       "#T_e711b_row8_col6 {\n",
       "  background-color: #539ecd;\n",
       "  color: #f1f1f1;\n",
       "}\n",
       "#T_e711b_row8_col7 {\n",
       "  background-color: #3686c0;\n",
       "  color: #f1f1f1;\n",
       "}\n",
       "#T_e711b_row8_col9 {\n",
       "  background-color: #3585bf;\n",
       "  color: #f1f1f1;\n",
       "}\n",
       "#T_e711b_row8_col10 {\n",
       "  background-color: #77b5d9;\n",
       "  color: #000000;\n",
       "}\n",
       "#T_e711b_row9_col3 {\n",
       "  background-color: #084184;\n",
       "  color: #f1f1f1;\n",
       "}\n",
       "#T_e711b_row9_col5 {\n",
       "  background-color: #084f99;\n",
       "  color: #f1f1f1;\n",
       "}\n",
       "#T_e711b_row9_col8 {\n",
       "  background-color: #5fa6d1;\n",
       "  color: #f1f1f1;\n",
       "}\n",
       "#T_e711b_row9_col10 {\n",
       "  background-color: #95c5df;\n",
       "  color: #000000;\n",
       "}\n",
       "#T_e711b_row10_col1 {\n",
       "  background-color: #dceaf6;\n",
       "  color: #000000;\n",
       "}\n",
       "#T_e711b_row10_col2 {\n",
       "  background-color: #c2d9ee;\n",
       "  color: #000000;\n",
       "}\n",
       "#T_e711b_row10_col3 {\n",
       "  background-color: #72b2d8;\n",
       "  color: #f1f1f1;\n",
       "}\n",
       "#T_e711b_row10_col6 {\n",
       "  background-color: #6aaed6;\n",
       "  color: #f1f1f1;\n",
       "}\n",
       "#T_e711b_row10_col7 {\n",
       "  background-color: #7cb7da;\n",
       "  color: #000000;\n",
       "}\n",
       "#T_e711b_row10_col9 {\n",
       "  background-color: #58a1cf;\n",
       "  color: #f1f1f1;\n",
       "}\n",
       "#T_e711b_row11_col5, #T_e711b_row15_col9 {\n",
       "  background-color: #97c6df;\n",
       "  color: #000000;\n",
       "}\n",
       "#T_e711b_row11_col6, #T_e711b_row11_col7, #T_e711b_row12_col6 {\n",
       "  background-color: #92c4de;\n",
       "  color: #000000;\n",
       "}\n",
       "#T_e711b_row11_col8, #T_e711b_row12_col8 {\n",
       "  background-color: #caddf0;\n",
       "  color: #000000;\n",
       "}\n",
       "#T_e711b_row11_col10, #T_e711b_row14_col10 {\n",
       "  background-color: #c8dcf0;\n",
       "  color: #000000;\n",
       "}\n",
       "#T_e711b_row11_col14 {\n",
       "  background-color: #d6e5f4;\n",
       "  color: #000000;\n",
       "}\n",
       "#T_e711b_row12_col0, #T_e711b_row12_col4 {\n",
       "  background-color: #f4f9fe;\n",
       "  color: #000000;\n",
       "}\n",
       "#T_e711b_row12_col1, #T_e711b_row13_col1 {\n",
       "  background-color: #b7d4ea;\n",
       "  color: #000000;\n",
       "}\n",
       "#T_e711b_row12_col3 {\n",
       "  background-color: #89bedc;\n",
       "  color: #000000;\n",
       "}\n",
       "#T_e711b_row12_col10 {\n",
       "  background-color: #cadef0;\n",
       "  color: #000000;\n",
       "}\n",
       "#T_e711b_row12_col13 {\n",
       "  background-color: #b0d2e7;\n",
       "  color: #000000;\n",
       "}\n",
       "#T_e711b_row12_col14 {\n",
       "  background-color: #dfecf7;\n",
       "  color: #000000;\n",
       "}\n",
       "#T_e711b_row13_col5 {\n",
       "  background-color: #8dc1dd;\n",
       "  color: #000000;\n",
       "}\n",
       "#T_e711b_row13_col8 {\n",
       "  background-color: #c7dbef;\n",
       "  color: #000000;\n",
       "}\n",
       "#T_e711b_row13_col9 {\n",
       "  background-color: #7ab6d9;\n",
       "  color: #000000;\n",
       "}\n",
       "#T_e711b_row13_col10 {\n",
       "  background-color: #cde0f1;\n",
       "  color: #000000;\n",
       "}\n",
       "#T_e711b_row13_col12 {\n",
       "  background-color: #afd1e7;\n",
       "  color: #000000;\n",
       "}\n",
       "#T_e711b_row14_col0 {\n",
       "  background-color: #e4eff9;\n",
       "  color: #000000;\n",
       "}\n",
       "#T_e711b_row14_col1 {\n",
       "  background-color: #9cc9e1;\n",
       "  color: #000000;\n",
       "}\n",
       "#T_e711b_row14_col2 {\n",
       "  background-color: #74b3d8;\n",
       "  color: #000000;\n",
       "}\n",
       "#T_e711b_row14_col3 {\n",
       "  background-color: #a6cee4;\n",
       "  color: #000000;\n",
       "}\n",
       "#T_e711b_row14_col4 {\n",
       "  background-color: #f2f8fd;\n",
       "  color: #000000;\n",
       "}\n",
       "#T_e711b_row14_col5 {\n",
       "  background-color: #b2d2e8;\n",
       "  color: #000000;\n",
       "}\n",
       "#T_e711b_row14_col6, #T_e711b_row15_col6 {\n",
       "  background-color: #a5cde3;\n",
       "  color: #000000;\n",
       "}\n",
       "#T_e711b_row14_col7 {\n",
       "  background-color: #abd0e6;\n",
       "  color: #000000;\n",
       "}\n",
       "#T_e711b_row14_col8 {\n",
       "  background-color: #d9e8f5;\n",
       "  color: #000000;\n",
       "}\n",
       "#T_e711b_row14_col11 {\n",
       "  background-color: #e3eef8;\n",
       "  color: #000000;\n",
       "}\n",
       "#T_e711b_row14_col13 {\n",
       "  background-color: #e0ecf8;\n",
       "  color: #000000;\n",
       "}\n",
       "#T_e711b_row15_col1 {\n",
       "  background-color: #a1cbe2;\n",
       "  color: #000000;\n",
       "}\n",
       "#T_e711b_row15_col2 {\n",
       "  background-color: #71b1d7;\n",
       "  color: #f1f1f1;\n",
       "}\n",
       "#T_e711b_row15_col3 {\n",
       "  background-color: #a0cbe2;\n",
       "  color: #000000;\n",
       "}\n",
       "#T_e711b_row15_col5 {\n",
       "  background-color: #a8cee4;\n",
       "  color: #000000;\n",
       "}\n",
       "#T_e711b_row15_col7 {\n",
       "  background-color: #a4cce3;\n",
       "  color: #000000;\n",
       "}\n",
       "#T_e711b_row15_col10 {\n",
       "  background-color: #cddff1;\n",
       "  color: #000000;\n",
       "}\n",
       "</style>\n",
       "<table id=\"T_e711b_\">\n",
       "  <thead>\n",
       "    <tr>\n",
       "      <th class=\"blank level0\" >&nbsp;</th>\n",
       "      <th class=\"col_heading level0 col0\" >BRAND_NAME</th>\n",
       "      <th class=\"col_heading level0 col1\" >VENDOR_NAME</th>\n",
       "      <th class=\"col_heading level0 col2\" >OS_NAME</th>\n",
       "      <th class=\"col_heading level0 col3\" >DEVICE_TYPE</th>\n",
       "      <th class=\"col_heading level0 col4\" >_2G_FLG</th>\n",
       "      <th class=\"col_heading level0 col5\" >_3G_FLG</th>\n",
       "      <th class=\"col_heading level0 col6\" >_4G_FLG</th>\n",
       "      <th class=\"col_heading level0 col7\" >WIFI_FLG</th>\n",
       "      <th class=\"col_heading level0 col8\" >BLUETOOTH_FLG</th>\n",
       "      <th class=\"col_heading level0 col9\" >TOUCH_SCREEN_FLG</th>\n",
       "      <th class=\"col_heading level0 col10\" >DUAL_SIM_FLG</th>\n",
       "      <th class=\"col_heading level0 col11\" >GENDER_TYPE_CD</th>\n",
       "      <th class=\"col_heading level0 col12\" >NATIONALITY_NAME</th>\n",
       "      <th class=\"col_heading level0 col13\" >SAUDI_NON_SAUDI</th>\n",
       "      <th class=\"col_heading level0 col14\" >DEVICE_COUNT</th>\n",
       "      <th class=\"col_heading level0 col15\" >Age_Group</th>\n",
       "    </tr>\n",
       "  </thead>\n",
       "  <tbody>\n",
       "    <tr>\n",
       "      <th id=\"T_e711b_level0_row0\" class=\"row_heading level0 row0\" >BRAND_NAME</th>\n",
       "      <td id=\"T_e711b_row0_col0\" class=\"data row0 col0\" >1.000000</td>\n",
       "      <td id=\"T_e711b_row0_col1\" class=\"data row0 col1\" >0.542916</td>\n",
       "      <td id=\"T_e711b_row0_col2\" class=\"data row0 col2\" >0.012888</td>\n",
       "      <td id=\"T_e711b_row0_col3\" class=\"data row0 col3\" >0.031592</td>\n",
       "      <td id=\"T_e711b_row0_col4\" class=\"data row0 col4\" >-0.008694</td>\n",
       "      <td id=\"T_e711b_row0_col5\" class=\"data row0 col5\" >0.055446</td>\n",
       "      <td id=\"T_e711b_row0_col6\" class=\"data row0 col6\" >0.074745</td>\n",
       "      <td id=\"T_e711b_row0_col7\" class=\"data row0 col7\" >0.050495</td>\n",
       "      <td id=\"T_e711b_row0_col8\" class=\"data row0 col8\" >-0.012318</td>\n",
       "      <td id=\"T_e711b_row0_col9\" class=\"data row0 col9\" >0.014701</td>\n",
       "      <td id=\"T_e711b_row0_col10\" class=\"data row0 col10\" >-0.056792</td>\n",
       "      <td id=\"T_e711b_row0_col11\" class=\"data row0 col11\" >-0.017835</td>\n",
       "      <td id=\"T_e711b_row0_col12\" class=\"data row0 col12\" >-0.039359</td>\n",
       "      <td id=\"T_e711b_row0_col13\" class=\"data row0 col13\" >-0.027355</td>\n",
       "      <td id=\"T_e711b_row0_col14\" class=\"data row0 col14\" >0.044963</td>\n",
       "      <td id=\"T_e711b_row0_col15\" class=\"data row0 col15\" >0.016074</td>\n",
       "    </tr>\n",
       "    <tr>\n",
       "      <th id=\"T_e711b_level0_row1\" class=\"row_heading level0 row1\" >VENDOR_NAME</th>\n",
       "      <td id=\"T_e711b_row1_col0\" class=\"data row1 col0\" >0.542916</td>\n",
       "      <td id=\"T_e711b_row1_col1\" class=\"data row1 col1\" >1.000000</td>\n",
       "      <td id=\"T_e711b_row1_col2\" class=\"data row1 col2\" >0.545306</td>\n",
       "      <td id=\"T_e711b_row1_col3\" class=\"data row1 col3\" >-0.403796</td>\n",
       "      <td id=\"T_e711b_row1_col4\" class=\"data row1 col4\" >-0.021405</td>\n",
       "      <td id=\"T_e711b_row1_col5\" class=\"data row1 col5\" >-0.335881</td>\n",
       "      <td id=\"T_e711b_row1_col6\" class=\"data row1 col6\" >-0.389357</td>\n",
       "      <td id=\"T_e711b_row1_col7\" class=\"data row1 col7\" >-0.361637</td>\n",
       "      <td id=\"T_e711b_row1_col8\" class=\"data row1 col8\" >-0.184893</td>\n",
       "      <td id=\"T_e711b_row1_col9\" class=\"data row1 col9\" >-0.464684</td>\n",
       "      <td id=\"T_e711b_row1_col10\" class=\"data row1 col10\" >-0.268658</td>\n",
       "      <td id=\"T_e711b_row1_col11\" class=\"data row1 col11\" >-0.008582</td>\n",
       "      <td id=\"T_e711b_row1_col12\" class=\"data row1 col12\" >-0.025542</td>\n",
       "      <td id=\"T_e711b_row1_col13\" class=\"data row1 col13\" >-0.024224</td>\n",
       "      <td id=\"T_e711b_row1_col14\" class=\"data row1 col14\" >0.094963</td>\n",
       "      <td id=\"T_e711b_row1_col15\" class=\"data row1 col15\" >0.070845</td>\n",
       "    </tr>\n",
       "    <tr>\n",
       "      <th id=\"T_e711b_level0_row2\" class=\"row_heading level0 row2\" >OS_NAME</th>\n",
       "      <td id=\"T_e711b_row2_col0\" class=\"data row2 col0\" >0.012888</td>\n",
       "      <td id=\"T_e711b_row2_col1\" class=\"data row2 col1\" >0.545306</td>\n",
       "      <td id=\"T_e711b_row2_col2\" class=\"data row2 col2\" >1.000000</td>\n",
       "      <td id=\"T_e711b_row2_col3\" class=\"data row2 col3\" >-0.708378</td>\n",
       "      <td id=\"T_e711b_row2_col4\" class=\"data row2 col4\" >-0.019919</td>\n",
       "      <td id=\"T_e711b_row2_col5\" class=\"data row2 col5\" >-0.634785</td>\n",
       "      <td id=\"T_e711b_row2_col6\" class=\"data row2 col6\" >-0.655197</td>\n",
       "      <td id=\"T_e711b_row2_col7\" class=\"data row2 col7\" >-0.679801</td>\n",
       "      <td id=\"T_e711b_row2_col8\" class=\"data row2 col8\" >-0.271183</td>\n",
       "      <td id=\"T_e711b_row2_col9\" class=\"data row2 col9\" >-0.791974</td>\n",
       "      <td id=\"T_e711b_row2_col10\" class=\"data row2 col10\" >-0.317451</td>\n",
       "      <td id=\"T_e711b_row2_col11\" class=\"data row2 col11\" >0.011797</td>\n",
       "      <td id=\"T_e711b_row2_col12\" class=\"data row2 col12\" >-0.009491</td>\n",
       "      <td id=\"T_e711b_row2_col13\" class=\"data row2 col13\" >-0.001965</td>\n",
       "      <td id=\"T_e711b_row2_col14\" class=\"data row2 col14\" >0.066978</td>\n",
       "      <td id=\"T_e711b_row2_col15\" class=\"data row2 col15\" >0.080190</td>\n",
       "    </tr>\n",
       "    <tr>\n",
       "      <th id=\"T_e711b_level0_row3\" class=\"row_heading level0 row3\" >DEVICE_TYPE</th>\n",
       "      <td id=\"T_e711b_row3_col0\" class=\"data row3 col0\" >0.031592</td>\n",
       "      <td id=\"T_e711b_row3_col1\" class=\"data row3 col1\" >-0.403796</td>\n",
       "      <td id=\"T_e711b_row3_col2\" class=\"data row3 col2\" >-0.708378</td>\n",
       "      <td id=\"T_e711b_row3_col3\" class=\"data row3 col3\" >1.000000</td>\n",
       "      <td id=\"T_e711b_row3_col4\" class=\"data row3 col4\" >0.025782</td>\n",
       "      <td id=\"T_e711b_row3_col5\" class=\"data row3 col5\" >0.872193</td>\n",
       "      <td id=\"T_e711b_row3_col6\" class=\"data row3 col6\" >0.651146</td>\n",
       "      <td id=\"T_e711b_row3_col7\" class=\"data row3 col7\" >0.910111</td>\n",
       "      <td id=\"T_e711b_row3_col8\" class=\"data row3 col8\" >0.419404</td>\n",
       "      <td id=\"T_e711b_row3_col9\" class=\"data row3 col9\" >0.891835</td>\n",
       "      <td id=\"T_e711b_row3_col10\" class=\"data row3 col10\" >0.117680</td>\n",
       "      <td id=\"T_e711b_row3_col11\" class=\"data row3 col11\" >0.007753</td>\n",
       "      <td id=\"T_e711b_row3_col12\" class=\"data row3 col12\" >0.025035</td>\n",
       "      <td id=\"T_e711b_row3_col13\" class=\"data row3 col13\" >0.049217</td>\n",
       "      <td id=\"T_e711b_row3_col14\" class=\"data row3 col14\" >-0.112951</td>\n",
       "      <td id=\"T_e711b_row3_col15\" class=\"data row3 col15\" >-0.080050</td>\n",
       "    </tr>\n",
       "    <tr>\n",
       "      <th id=\"T_e711b_level0_row4\" class=\"row_heading level0 row4\" >_2G_FLG</th>\n",
       "      <td id=\"T_e711b_row4_col0\" class=\"data row4 col0\" >-0.008694</td>\n",
       "      <td id=\"T_e711b_row4_col1\" class=\"data row4 col1\" >-0.021405</td>\n",
       "      <td id=\"T_e711b_row4_col2\" class=\"data row4 col2\" >-0.019919</td>\n",
       "      <td id=\"T_e711b_row4_col3\" class=\"data row4 col3\" >0.025782</td>\n",
       "      <td id=\"T_e711b_row4_col4\" class=\"data row4 col4\" >1.000000</td>\n",
       "      <td id=\"T_e711b_row4_col5\" class=\"data row4 col5\" >-0.021089</td>\n",
       "      <td id=\"T_e711b_row4_col6\" class=\"data row4 col6\" >0.017880</td>\n",
       "      <td id=\"T_e711b_row4_col7\" class=\"data row4 col7\" >0.027419</td>\n",
       "      <td id=\"T_e711b_row4_col8\" class=\"data row4 col8\" >-0.009308</td>\n",
       "      <td id=\"T_e711b_row4_col9\" class=\"data row4 col9\" >0.025398</td>\n",
       "      <td id=\"T_e711b_row4_col10\" class=\"data row4 col10\" >0.040460</td>\n",
       "      <td id=\"T_e711b_row4_col11\" class=\"data row4 col11\" >0.002296</td>\n",
       "      <td id=\"T_e711b_row4_col12\" class=\"data row4 col12\" >-0.005304</td>\n",
       "      <td id=\"T_e711b_row4_col13\" class=\"data row4 col13\" >-0.012607</td>\n",
       "      <td id=\"T_e711b_row4_col14\" class=\"data row4 col14\" >0.003598</td>\n",
       "      <td id=\"T_e711b_row4_col15\" class=\"data row4 col15\" >-0.005713</td>\n",
       "    </tr>\n",
       "    <tr>\n",
       "      <th id=\"T_e711b_level0_row5\" class=\"row_heading level0 row5\" >_3G_FLG</th>\n",
       "      <td id=\"T_e711b_row5_col0\" class=\"data row5 col0\" >0.055446</td>\n",
       "      <td id=\"T_e711b_row5_col1\" class=\"data row5 col1\" >-0.335881</td>\n",
       "      <td id=\"T_e711b_row5_col2\" class=\"data row5 col2\" >-0.634785</td>\n",
       "      <td id=\"T_e711b_row5_col3\" class=\"data row5 col3\" >0.872193</td>\n",
       "      <td id=\"T_e711b_row5_col4\" class=\"data row5 col4\" >-0.021089</td>\n",
       "      <td id=\"T_e711b_row5_col5\" class=\"data row5 col5\" >1.000000</td>\n",
       "      <td id=\"T_e711b_row5_col6\" class=\"data row5 col6\" >0.636212</td>\n",
       "      <td id=\"T_e711b_row5_col7\" class=\"data row5 col7\" >0.864863</td>\n",
       "      <td id=\"T_e711b_row5_col8\" class=\"data row5 col8\" >0.423827</td>\n",
       "      <td id=\"T_e711b_row5_col9\" class=\"data row5 col9\" >0.808372</td>\n",
       "      <td id=\"T_e711b_row5_col10\" class=\"data row5 col10\" >0.084698</td>\n",
       "      <td id=\"T_e711b_row5_col11\" class=\"data row5 col11\" >0.008274</td>\n",
       "      <td id=\"T_e711b_row5_col12\" class=\"data row5 col12\" >0.030424</td>\n",
       "      <td id=\"T_e711b_row5_col13\" class=\"data row5 col13\" >0.046606</td>\n",
       "      <td id=\"T_e711b_row5_col14\" class=\"data row5 col14\" >-0.117651</td>\n",
       "      <td id=\"T_e711b_row5_col15\" class=\"data row5 col15\" >-0.071708</td>\n",
       "    </tr>\n",
       "    <tr>\n",
       "      <th id=\"T_e711b_level0_row6\" class=\"row_heading level0 row6\" >_4G_FLG</th>\n",
       "      <td id=\"T_e711b_row6_col0\" class=\"data row6 col0\" >0.074745</td>\n",
       "      <td id=\"T_e711b_row6_col1\" class=\"data row6 col1\" >-0.389357</td>\n",
       "      <td id=\"T_e711b_row6_col2\" class=\"data row6 col2\" >-0.655197</td>\n",
       "      <td id=\"T_e711b_row6_col3\" class=\"data row6 col3\" >0.651146</td>\n",
       "      <td id=\"T_e711b_row6_col4\" class=\"data row6 col4\" >0.017880</td>\n",
       "      <td id=\"T_e711b_row6_col5\" class=\"data row6 col5\" >0.636212</td>\n",
       "      <td id=\"T_e711b_row6_col6\" class=\"data row6 col6\" >1.000000</td>\n",
       "      <td id=\"T_e711b_row6_col7\" class=\"data row6 col7\" >0.630090</td>\n",
       "      <td id=\"T_e711b_row6_col8\" class=\"data row6 col8\" >0.290864</td>\n",
       "      <td id=\"T_e711b_row6_col9\" class=\"data row6 col9\" >0.661685</td>\n",
       "      <td id=\"T_e711b_row6_col10\" class=\"data row6 col10\" >0.174656</td>\n",
       "      <td id=\"T_e711b_row6_col11\" class=\"data row6 col11\" >0.015357</td>\n",
       "      <td id=\"T_e711b_row6_col12\" class=\"data row6 col12\" >0.012000</td>\n",
       "      <td id=\"T_e711b_row6_col13\" class=\"data row6 col13\" >0.020553</td>\n",
       "      <td id=\"T_e711b_row6_col14\" class=\"data row6 col14\" >-0.070608</td>\n",
       "      <td id=\"T_e711b_row6_col15\" class=\"data row6 col15\" >-0.069522</td>\n",
       "    </tr>\n",
       "    <tr>\n",
       "      <th id=\"T_e711b_level0_row7\" class=\"row_heading level0 row7\" >WIFI_FLG</th>\n",
       "      <td id=\"T_e711b_row7_col0\" class=\"data row7 col0\" >0.050495</td>\n",
       "      <td id=\"T_e711b_row7_col1\" class=\"data row7 col1\" >-0.361637</td>\n",
       "      <td id=\"T_e711b_row7_col2\" class=\"data row7 col2\" >-0.679801</td>\n",
       "      <td id=\"T_e711b_row7_col3\" class=\"data row7 col3\" >0.910111</td>\n",
       "      <td id=\"T_e711b_row7_col4\" class=\"data row7 col4\" >0.027419</td>\n",
       "      <td id=\"T_e711b_row7_col5\" class=\"data row7 col5\" >0.864863</td>\n",
       "      <td id=\"T_e711b_row7_col6\" class=\"data row7 col6\" >0.630090</td>\n",
       "      <td id=\"T_e711b_row7_col7\" class=\"data row7 col7\" >1.000000</td>\n",
       "      <td id=\"T_e711b_row7_col8\" class=\"data row7 col8\" >0.446033</td>\n",
       "      <td id=\"T_e711b_row7_col9\" class=\"data row7 col9\" >0.871879</td>\n",
       "      <td id=\"T_e711b_row7_col10\" class=\"data row7 col10\" >0.092951</td>\n",
       "      <td id=\"T_e711b_row7_col11\" class=\"data row7 col11\" >0.002350</td>\n",
       "      <td id=\"T_e711b_row7_col12\" class=\"data row7 col12\" >0.025433</td>\n",
       "      <td id=\"T_e711b_row7_col13\" class=\"data row7 col13\" >0.046222</td>\n",
       "      <td id=\"T_e711b_row7_col14\" class=\"data row7 col14\" >-0.121127</td>\n",
       "      <td id=\"T_e711b_row7_col15\" class=\"data row7 col15\" >-0.076582</td>\n",
       "    </tr>\n",
       "    <tr>\n",
       "      <th id=\"T_e711b_level0_row8\" class=\"row_heading level0 row8\" >BLUETOOTH_FLG</th>\n",
       "      <td id=\"T_e711b_row8_col0\" class=\"data row8 col0\" >-0.012318</td>\n",
       "      <td id=\"T_e711b_row8_col1\" class=\"data row8 col1\" >-0.184893</td>\n",
       "      <td id=\"T_e711b_row8_col2\" class=\"data row8 col2\" >-0.271183</td>\n",
       "      <td id=\"T_e711b_row8_col3\" class=\"data row8 col3\" >0.419404</td>\n",
       "      <td id=\"T_e711b_row8_col4\" class=\"data row8 col4\" >-0.009308</td>\n",
       "      <td id=\"T_e711b_row8_col5\" class=\"data row8 col5\" >0.423827</td>\n",
       "      <td id=\"T_e711b_row8_col6\" class=\"data row8 col6\" >0.290864</td>\n",
       "      <td id=\"T_e711b_row8_col7\" class=\"data row8 col7\" >0.446033</td>\n",
       "      <td id=\"T_e711b_row8_col8\" class=\"data row8 col8\" >1.000000</td>\n",
       "      <td id=\"T_e711b_row8_col9\" class=\"data row8 col9\" >0.413150</td>\n",
       "      <td id=\"T_e711b_row8_col10\" class=\"data row8 col10\" >0.302167</td>\n",
       "      <td id=\"T_e711b_row8_col11\" class=\"data row8 col11\" >0.025655</td>\n",
       "      <td id=\"T_e711b_row8_col12\" class=\"data row8 col12\" >0.024941</td>\n",
       "      <td id=\"T_e711b_row8_col13\" class=\"data row8 col13\" >0.042488</td>\n",
       "      <td id=\"T_e711b_row8_col14\" class=\"data row8 col14\" >-0.081809</td>\n",
       "      <td id=\"T_e711b_row8_col15\" class=\"data row8 col15\" >-0.042102</td>\n",
       "    </tr>\n",
       "    <tr>\n",
       "      <th id=\"T_e711b_level0_row9\" class=\"row_heading level0 row9\" >TOUCH_SCREEN_FLG</th>\n",
       "      <td id=\"T_e711b_row9_col0\" class=\"data row9 col0\" >0.014701</td>\n",
       "      <td id=\"T_e711b_row9_col1\" class=\"data row9 col1\" >-0.464684</td>\n",
       "      <td id=\"T_e711b_row9_col2\" class=\"data row9 col2\" >-0.791974</td>\n",
       "      <td id=\"T_e711b_row9_col3\" class=\"data row9 col3\" >0.891835</td>\n",
       "      <td id=\"T_e711b_row9_col4\" class=\"data row9 col4\" >0.025398</td>\n",
       "      <td id=\"T_e711b_row9_col5\" class=\"data row9 col5\" >0.808372</td>\n",
       "      <td id=\"T_e711b_row9_col6\" class=\"data row9 col6\" >0.661685</td>\n",
       "      <td id=\"T_e711b_row9_col7\" class=\"data row9 col7\" >0.871879</td>\n",
       "      <td id=\"T_e711b_row9_col8\" class=\"data row9 col8\" >0.413150</td>\n",
       "      <td id=\"T_e711b_row9_col9\" class=\"data row9 col9\" >1.000000</td>\n",
       "      <td id=\"T_e711b_row9_col10\" class=\"data row9 col10\" >0.204750</td>\n",
       "      <td id=\"T_e711b_row9_col11\" class=\"data row9 col11\" >0.003235</td>\n",
       "      <td id=\"T_e711b_row9_col12\" class=\"data row9 col12\" >0.024952</td>\n",
       "      <td id=\"T_e711b_row9_col13\" class=\"data row9 col13\" >0.039148</td>\n",
       "      <td id=\"T_e711b_row9_col14\" class=\"data row9 col14\" >-0.114592</td>\n",
       "      <td id=\"T_e711b_row9_col15\" class=\"data row9 col15\" >-0.085327</td>\n",
       "    </tr>\n",
       "    <tr>\n",
       "      <th id=\"T_e711b_level0_row10\" class=\"row_heading level0 row10\" >DUAL_SIM_FLG</th>\n",
       "      <td id=\"T_e711b_row10_col0\" class=\"data row10 col0\" >-0.056792</td>\n",
       "      <td id=\"T_e711b_row10_col1\" class=\"data row10 col1\" >-0.268658</td>\n",
       "      <td id=\"T_e711b_row10_col2\" class=\"data row10 col2\" >-0.317451</td>\n",
       "      <td id=\"T_e711b_row10_col3\" class=\"data row10 col3\" >0.117680</td>\n",
       "      <td id=\"T_e711b_row10_col4\" class=\"data row10 col4\" >0.040460</td>\n",
       "      <td id=\"T_e711b_row10_col5\" class=\"data row10 col5\" >0.084698</td>\n",
       "      <td id=\"T_e711b_row10_col6\" class=\"data row10 col6\" >0.174656</td>\n",
       "      <td id=\"T_e711b_row10_col7\" class=\"data row10 col7\" >0.092951</td>\n",
       "      <td id=\"T_e711b_row10_col8\" class=\"data row10 col8\" >0.302167</td>\n",
       "      <td id=\"T_e711b_row10_col9\" class=\"data row10 col9\" >0.204750</td>\n",
       "      <td id=\"T_e711b_row10_col10\" class=\"data row10 col10\" >1.000000</td>\n",
       "      <td id=\"T_e711b_row10_col11\" class=\"data row10 col11\" >0.000841</td>\n",
       "      <td id=\"T_e711b_row10_col12\" class=\"data row10 col12\" >-0.018078</td>\n",
       "      <td id=\"T_e711b_row10_col13\" class=\"data row10 col13\" >-0.035143</td>\n",
       "      <td id=\"T_e711b_row10_col14\" class=\"data row10 col14\" >-0.002471</td>\n",
       "      <td id=\"T_e711b_row10_col15\" class=\"data row10 col15\" >-0.030909</td>\n",
       "    </tr>\n",
       "    <tr>\n",
       "      <th id=\"T_e711b_level0_row11\" class=\"row_heading level0 row11\" >GENDER_TYPE_CD</th>\n",
       "      <td id=\"T_e711b_row11_col0\" class=\"data row11 col0\" >-0.017835</td>\n",
       "      <td id=\"T_e711b_row11_col1\" class=\"data row11 col1\" >-0.008582</td>\n",
       "      <td id=\"T_e711b_row11_col2\" class=\"data row11 col2\" >0.011797</td>\n",
       "      <td id=\"T_e711b_row11_col3\" class=\"data row11 col3\" >0.007753</td>\n",
       "      <td id=\"T_e711b_row11_col4\" class=\"data row11 col4\" >0.002296</td>\n",
       "      <td id=\"T_e711b_row11_col5\" class=\"data row11 col5\" >0.008274</td>\n",
       "      <td id=\"T_e711b_row11_col6\" class=\"data row11 col6\" >0.015357</td>\n",
       "      <td id=\"T_e711b_row11_col7\" class=\"data row11 col7\" >0.002350</td>\n",
       "      <td id=\"T_e711b_row11_col8\" class=\"data row11 col8\" >0.025655</td>\n",
       "      <td id=\"T_e711b_row11_col9\" class=\"data row11 col9\" >0.003235</td>\n",
       "      <td id=\"T_e711b_row11_col10\" class=\"data row11 col10\" >0.000841</td>\n",
       "      <td id=\"T_e711b_row11_col11\" class=\"data row11 col11\" >1.000000</td>\n",
       "      <td id=\"T_e711b_row11_col12\" class=\"data row11 col12\" >-0.038849</td>\n",
       "      <td id=\"T_e711b_row11_col13\" class=\"data row11 col13\" >-0.033347</td>\n",
       "      <td id=\"T_e711b_row11_col14\" class=\"data row11 col14\" >0.068089</td>\n",
       "      <td id=\"T_e711b_row11_col15\" class=\"data row11 col15\" >0.006432</td>\n",
       "    </tr>\n",
       "    <tr>\n",
       "      <th id=\"T_e711b_level0_row12\" class=\"row_heading level0 row12\" >NATIONALITY_NAME</th>\n",
       "      <td id=\"T_e711b_row12_col0\" class=\"data row12 col0\" >-0.039359</td>\n",
       "      <td id=\"T_e711b_row12_col1\" class=\"data row12 col1\" >-0.025542</td>\n",
       "      <td id=\"T_e711b_row12_col2\" class=\"data row12 col2\" >-0.009491</td>\n",
       "      <td id=\"T_e711b_row12_col3\" class=\"data row12 col3\" >0.025035</td>\n",
       "      <td id=\"T_e711b_row12_col4\" class=\"data row12 col4\" >-0.005304</td>\n",
       "      <td id=\"T_e711b_row12_col5\" class=\"data row12 col5\" >0.030424</td>\n",
       "      <td id=\"T_e711b_row12_col6\" class=\"data row12 col6\" >0.012000</td>\n",
       "      <td id=\"T_e711b_row12_col7\" class=\"data row12 col7\" >0.025433</td>\n",
       "      <td id=\"T_e711b_row12_col8\" class=\"data row12 col8\" >0.024941</td>\n",
       "      <td id=\"T_e711b_row12_col9\" class=\"data row12 col9\" >0.024952</td>\n",
       "      <td id=\"T_e711b_row12_col10\" class=\"data row12 col10\" >-0.018078</td>\n",
       "      <td id=\"T_e711b_row12_col11\" class=\"data row12 col11\" >-0.038849</td>\n",
       "      <td id=\"T_e711b_row12_col12\" class=\"data row12 col12\" >1.000000</td>\n",
       "      <td id=\"T_e711b_row12_col13\" class=\"data row12 col13\" >0.293926</td>\n",
       "      <td id=\"T_e711b_row12_col14\" class=\"data row12 col14\" >0.010802</td>\n",
       "      <td id=\"T_e711b_row12_col15\" class=\"data row12 col15\" >0.031037</td>\n",
       "    </tr>\n",
       "    <tr>\n",
       "      <th id=\"T_e711b_level0_row13\" class=\"row_heading level0 row13\" >SAUDI_NON_SAUDI</th>\n",
       "      <td id=\"T_e711b_row13_col0\" class=\"data row13 col0\" >-0.027355</td>\n",
       "      <td id=\"T_e711b_row13_col1\" class=\"data row13 col1\" >-0.024224</td>\n",
       "      <td id=\"T_e711b_row13_col2\" class=\"data row13 col2\" >-0.001965</td>\n",
       "      <td id=\"T_e711b_row13_col3\" class=\"data row13 col3\" >0.049217</td>\n",
       "      <td id=\"T_e711b_row13_col4\" class=\"data row13 col4\" >-0.012607</td>\n",
       "      <td id=\"T_e711b_row13_col5\" class=\"data row13 col5\" >0.046606</td>\n",
       "      <td id=\"T_e711b_row13_col6\" class=\"data row13 col6\" >0.020553</td>\n",
       "      <td id=\"T_e711b_row13_col7\" class=\"data row13 col7\" >0.046222</td>\n",
       "      <td id=\"T_e711b_row13_col8\" class=\"data row13 col8\" >0.042488</td>\n",
       "      <td id=\"T_e711b_row13_col9\" class=\"data row13 col9\" >0.039148</td>\n",
       "      <td id=\"T_e711b_row13_col10\" class=\"data row13 col10\" >-0.035143</td>\n",
       "      <td id=\"T_e711b_row13_col11\" class=\"data row13 col11\" >-0.033347</td>\n",
       "      <td id=\"T_e711b_row13_col12\" class=\"data row13 col12\" >0.293926</td>\n",
       "      <td id=\"T_e711b_row13_col13\" class=\"data row13 col13\" >1.000000</td>\n",
       "      <td id=\"T_e711b_row13_col14\" class=\"data row13 col14\" >0.082318</td>\n",
       "      <td id=\"T_e711b_row13_col15\" class=\"data row13 col15\" >0.080043</td>\n",
       "    </tr>\n",
       "    <tr>\n",
       "      <th id=\"T_e711b_level0_row14\" class=\"row_heading level0 row14\" >DEVICE_COUNT</th>\n",
       "      <td id=\"T_e711b_row14_col0\" class=\"data row14 col0\" >0.044963</td>\n",
       "      <td id=\"T_e711b_row14_col1\" class=\"data row14 col1\" >0.094963</td>\n",
       "      <td id=\"T_e711b_row14_col2\" class=\"data row14 col2\" >0.066978</td>\n",
       "      <td id=\"T_e711b_row14_col3\" class=\"data row14 col3\" >-0.112951</td>\n",
       "      <td id=\"T_e711b_row14_col4\" class=\"data row14 col4\" >0.003598</td>\n",
       "      <td id=\"T_e711b_row14_col5\" class=\"data row14 col5\" >-0.117651</td>\n",
       "      <td id=\"T_e711b_row14_col6\" class=\"data row14 col6\" >-0.070608</td>\n",
       "      <td id=\"T_e711b_row14_col7\" class=\"data row14 col7\" >-0.121127</td>\n",
       "      <td id=\"T_e711b_row14_col8\" class=\"data row14 col8\" >-0.081809</td>\n",
       "      <td id=\"T_e711b_row14_col9\" class=\"data row14 col9\" >-0.114592</td>\n",
       "      <td id=\"T_e711b_row14_col10\" class=\"data row14 col10\" >-0.002471</td>\n",
       "      <td id=\"T_e711b_row14_col11\" class=\"data row14 col11\" >0.068089</td>\n",
       "      <td id=\"T_e711b_row14_col12\" class=\"data row14 col12\" >0.010802</td>\n",
       "      <td id=\"T_e711b_row14_col13\" class=\"data row14 col13\" >0.082318</td>\n",
       "      <td id=\"T_e711b_row14_col14\" class=\"data row14 col14\" >1.000000</td>\n",
       "      <td id=\"T_e711b_row14_col15\" class=\"data row14 col15\" >-0.029768</td>\n",
       "    </tr>\n",
       "    <tr>\n",
       "      <th id=\"T_e711b_level0_row15\" class=\"row_heading level0 row15\" >Age_Group</th>\n",
       "      <td id=\"T_e711b_row15_col0\" class=\"data row15 col0\" >0.016074</td>\n",
       "      <td id=\"T_e711b_row15_col1\" class=\"data row15 col1\" >0.070845</td>\n",
       "      <td id=\"T_e711b_row15_col2\" class=\"data row15 col2\" >0.080190</td>\n",
       "      <td id=\"T_e711b_row15_col3\" class=\"data row15 col3\" >-0.080050</td>\n",
       "      <td id=\"T_e711b_row15_col4\" class=\"data row15 col4\" >-0.005713</td>\n",
       "      <td id=\"T_e711b_row15_col5\" class=\"data row15 col5\" >-0.071708</td>\n",
       "      <td id=\"T_e711b_row15_col6\" class=\"data row15 col6\" >-0.069522</td>\n",
       "      <td id=\"T_e711b_row15_col7\" class=\"data row15 col7\" >-0.076582</td>\n",
       "      <td id=\"T_e711b_row15_col8\" class=\"data row15 col8\" >-0.042102</td>\n",
       "      <td id=\"T_e711b_row15_col9\" class=\"data row15 col9\" >-0.085327</td>\n",
       "      <td id=\"T_e711b_row15_col10\" class=\"data row15 col10\" >-0.030909</td>\n",
       "      <td id=\"T_e711b_row15_col11\" class=\"data row15 col11\" >0.006432</td>\n",
       "      <td id=\"T_e711b_row15_col12\" class=\"data row15 col12\" >0.031037</td>\n",
       "      <td id=\"T_e711b_row15_col13\" class=\"data row15 col13\" >0.080043</td>\n",
       "      <td id=\"T_e711b_row15_col14\" class=\"data row15 col14\" >-0.029768</td>\n",
       "      <td id=\"T_e711b_row15_col15\" class=\"data row15 col15\" >1.000000</td>\n",
       "    </tr>\n",
       "  </tbody>\n",
       "</table>\n"
      ],
      "text/plain": [
       "<pandas.io.formats.style.Styler at 0x1074935e0>"
      ]
     },
     "execution_count": 27,
     "metadata": {},
     "output_type": "execute_result"
    }
   ],
   "source": [
    "data.corr().style.background_gradient(cmap=\"Blues\")"
   ]
  },
  {
   "cell_type": "code",
   "execution_count": 28,
   "id": "725dc168",
   "metadata": {
    "id": "725dc168"
   },
   "outputs": [],
   "source": [
    "y = data.Age_Group\n",
    "X = data.drop(['Age_Group'],axis=1).to_numpy()"
   ]
  },
  {
   "cell_type": "code",
   "execution_count": 29,
   "id": "b1e400a4",
   "metadata": {
    "id": "b1e400a4"
   },
   "outputs": [],
   "source": [
    "X[:, :-2]= MinMaxScaler().fit_transform(X[:, :-2])"
   ]
  },
  {
   "cell_type": "code",
   "execution_count": 30,
   "id": "f79e39ab",
   "metadata": {
    "id": "f79e39ab"
   },
   "outputs": [],
   "source": [
    "smote = SMOTE(sampling_strategy = {0:220210, 1:220210, 2:220210}, random_state=42)"
   ]
  },
  {
   "cell_type": "code",
   "execution_count": 31,
   "id": "79e5ce2f",
   "metadata": {
    "id": "79e5ce2f"
   },
   "outputs": [],
   "source": [
    "undersample = RandomUnderSampler(sampling_strategy='not minority')"
   ]
  },
  {
   "cell_type": "code",
   "execution_count": 32,
   "id": "bc268e57",
   "metadata": {
    "id": "bc268e57"
   },
   "outputs": [],
   "source": [
    "X, y= smote.fit_resample(X,y)"
   ]
  },
  {
   "cell_type": "code",
   "execution_count": 33,
   "id": "f5264599",
   "metadata": {
    "id": "f5264599"
   },
   "outputs": [],
   "source": [
    "X, y = undersample.fit_resample(X, y)"
   ]
  },
  {
   "cell_type": "code",
   "execution_count": 34,
   "id": "531db0ed",
   "metadata": {
    "colab": {
     "base_uri": "https://localhost:8080/"
    },
    "id": "531db0ed",
    "outputId": "28b9e090-dcb6-42a9-f9d4-ee19899011aa"
   },
   "outputs": [
    {
     "data": {
      "text/plain": [
       "0    220210\n",
       "1    220210\n",
       "2    220210\n",
       "Name: Age_Group, dtype: int64"
      ]
     },
     "execution_count": 34,
     "metadata": {},
     "output_type": "execute_result"
    }
   ],
   "source": [
    "y.value_counts()"
   ]
  },
  {
   "cell_type": "code",
   "execution_count": 35,
   "id": "9a2d765b",
   "metadata": {
    "id": "9a2d765b"
   },
   "outputs": [],
   "source": [
    "X_train, X_test, y_train, y_test = train_test_split(X, y, test_size=0.3, random_state=42)"
   ]
  },
  {
   "cell_type": "code",
   "execution_count": null,
   "id": "O_Bzc3SbSyA3",
   "metadata": {
    "colab": {
     "base_uri": "https://localhost:8080/"
    },
    "id": "O_Bzc3SbSyA3",
    "outputId": "3036a008-9cdd-41ec-9a0e-9f169cb0f397"
   },
   "outputs": [
    {
     "name": "stdout",
     "output_type": "stream",
     "text": [
      "Model: \"sequential\"\n",
      "_________________________________________________________________\n",
      " Layer (type)                Output Shape              Param #   \n",
      "=================================================================\n",
      " dense (Dense)               (None, 15)                240       \n",
      "                                                                 \n",
      " dense_1 (Dense)             (None, 36)                576       \n",
      "                                                                 \n",
      " dense_2 (Dense)             (None, 24)                888       \n",
      "                                                                 \n",
      " dense_3 (Dense)             (None, 16)                400       \n",
      "                                                                 \n",
      " dense_4 (Dense)             (None, 3)                 51        \n",
      "                                                                 \n",
      "=================================================================\n",
      "Total params: 2,155\n",
      "Trainable params: 2,155\n",
      "Non-trainable params: 0\n",
      "_________________________________________________________________\n"
     ]
    }
   ],
   "source": [
    "ann = Sequential()\n",
    "ann.add(Dense(15, input_shape=(15, )))\n",
    "ann.add(Dense(36,'relu'))\n",
    "ann.add(Dense(24,'relu'))\n",
    "ann.add(Dense(16,'relu'))\n",
    "ann.add(Dense(3,'softmax'))\n",
    "ann.summary()\n",
    "ann.compile(optimizer='adam', loss='sparse_categorical_crossentropy', metrics=['accuracy'])"
   ]
  },
  {
   "cell_type": "code",
   "execution_count": null,
   "id": "WVOIDCFXSzx9",
   "metadata": {
    "colab": {
     "base_uri": "https://localhost:8080/"
    },
    "id": "WVOIDCFXSzx9",
    "outputId": "8b79939f-9136-4aad-af70-42d47c5d73c4"
   },
   "outputs": [
    {
     "name": "stdout",
     "output_type": "stream",
     "text": [
      "Epoch 1/60\n",
      "13126/13126 [==============================] - 31s 2ms/step - loss: 1.0190 - accuracy: 0.5075 - val_loss: 0.9494 - val_accuracy: 0.5285\n",
      "Epoch 2/60\n",
      "13126/13126 [==============================] - 30s 2ms/step - loss: 0.9533 - accuracy: 0.5272 - val_loss: 0.9454 - val_accuracy: 0.5283\n",
      "Epoch 3/60\n",
      "13126/13126 [==============================] - 34s 3ms/step - loss: 0.9384 - accuracy: 0.5352 - val_loss: 0.9214 - val_accuracy: 0.5474\n",
      "Epoch 4/60\n",
      "13126/13126 [==============================] - 35s 3ms/step - loss: 0.9242 - accuracy: 0.5442 - val_loss: 0.9194 - val_accuracy: 0.5491\n",
      "Epoch 5/60\n",
      "13126/13126 [==============================] - 34s 3ms/step - loss: 0.9142 - accuracy: 0.5502 - val_loss: 0.9042 - val_accuracy: 0.5561\n",
      "Epoch 6/60\n",
      "13126/13126 [==============================] - 33s 3ms/step - loss: 0.9066 - accuracy: 0.5569 - val_loss: 0.9112 - val_accuracy: 0.5549\n",
      "Epoch 7/60\n",
      "13126/13126 [==============================] - 30s 2ms/step - loss: 0.9007 - accuracy: 0.5607 - val_loss: 0.8887 - val_accuracy: 0.5698\n",
      "Epoch 8/60\n",
      "13126/13126 [==============================] - 29s 2ms/step - loss: 0.8955 - accuracy: 0.5645 - val_loss: 0.8865 - val_accuracy: 0.5687\n",
      "Epoch 9/60\n",
      "13126/13126 [==============================] - 34s 3ms/step - loss: 0.8926 - accuracy: 0.5669 - val_loss: 0.8954 - val_accuracy: 0.5663\n",
      "Epoch 10/60\n",
      "13126/13126 [==============================] - 29s 2ms/step - loss: 0.8930 - accuracy: 0.5674 - val_loss: 0.8819 - val_accuracy: 0.5737\n",
      "Epoch 11/60\n",
      "13126/13126 [==============================] - 29s 2ms/step - loss: 0.8852 - accuracy: 0.5715 - val_loss: 0.8814 - val_accuracy: 0.5740\n",
      "Epoch 12/60\n",
      "13126/13126 [==============================] - 29s 2ms/step - loss: 0.8819 - accuracy: 0.5733 - val_loss: 0.8739 - val_accuracy: 0.5785\n",
      "Epoch 13/60\n",
      "13126/13126 [==============================] - 29s 2ms/step - loss: 0.8792 - accuracy: 0.5755 - val_loss: 0.8781 - val_accuracy: 0.5713\n",
      "Epoch 14/60\n",
      "13126/13126 [==============================] - 29s 2ms/step - loss: 0.8776 - accuracy: 0.5758 - val_loss: 0.8786 - val_accuracy: 0.5748\n",
      "Epoch 15/60\n",
      "13126/13126 [==============================] - 33s 3ms/step - loss: 0.8785 - accuracy: 0.5759 - val_loss: 0.8711 - val_accuracy: 0.5798\n",
      "Epoch 16/60\n",
      "13126/13126 [==============================] - 29s 2ms/step - loss: 0.8767 - accuracy: 0.5773 - val_loss: 0.8757 - val_accuracy: 0.5730\n",
      "Epoch 17/60\n",
      "13126/13126 [==============================] - 29s 2ms/step - loss: 0.8716 - accuracy: 0.5794 - val_loss: 0.8740 - val_accuracy: 0.5780\n",
      "Epoch 18/60\n",
      "13126/13126 [==============================] - 29s 2ms/step - loss: 0.8744 - accuracy: 0.5789 - val_loss: 0.8681 - val_accuracy: 0.5820\n",
      "Epoch 19/60\n",
      "13126/13126 [==============================] - 29s 2ms/step - loss: 0.8711 - accuracy: 0.5799 - val_loss: 0.8641 - val_accuracy: 0.5817\n",
      "Epoch 20/60\n",
      "13126/13126 [==============================] - 29s 2ms/step - loss: 0.8703 - accuracy: 0.5803 - val_loss: 0.8600 - val_accuracy: 0.5872\n",
      "Epoch 21/60\n",
      "13126/13126 [==============================] - 33s 3ms/step - loss: 0.8675 - accuracy: 0.5826 - val_loss: 0.8697 - val_accuracy: 0.5806\n",
      "Epoch 22/60\n",
      "13126/13126 [==============================] - 33s 3ms/step - loss: 0.8677 - accuracy: 0.5822 - val_loss: 0.8652 - val_accuracy: 0.5836\n",
      "Epoch 23/60\n",
      "13126/13126 [==============================] - 29s 2ms/step - loss: 0.8655 - accuracy: 0.5838 - val_loss: 0.8565 - val_accuracy: 0.5917\n",
      "Epoch 24/60\n",
      "13126/13126 [==============================] - 33s 3ms/step - loss: 0.8647 - accuracy: 0.5833 - val_loss: 0.8649 - val_accuracy: 0.5832\n",
      "Epoch 25/60\n",
      "13126/13126 [==============================] - 29s 2ms/step - loss: 0.8650 - accuracy: 0.5841 - val_loss: 0.8773 - val_accuracy: 0.5740\n",
      "Epoch 26/60\n",
      "13126/13126 [==============================] - 29s 2ms/step - loss: 0.8644 - accuracy: 0.5841 - val_loss: 0.8581 - val_accuracy: 0.5880\n",
      "Epoch 27/60\n",
      "13126/13126 [==============================] - 29s 2ms/step - loss: 0.8637 - accuracy: 0.5853 - val_loss: 0.8600 - val_accuracy: 0.5879\n",
      "Epoch 28/60\n",
      "13126/13126 [==============================] - 32s 2ms/step - loss: 0.8615 - accuracy: 0.5860 - val_loss: 0.8572 - val_accuracy: 0.5884\n",
      "Epoch 29/60\n",
      "13126/13126 [==============================] - 35s 3ms/step - loss: 0.8665 - accuracy: 0.5838 - val_loss: 0.8593 - val_accuracy: 0.5872\n",
      "Epoch 30/60\n",
      "13126/13126 [==============================] - 35s 3ms/step - loss: 0.8625 - accuracy: 0.5858 - val_loss: 0.8535 - val_accuracy: 0.5912\n",
      "Epoch 31/60\n",
      "13126/13126 [==============================] - 31s 2ms/step - loss: 0.8602 - accuracy: 0.5873 - val_loss: 0.8568 - val_accuracy: 0.5882\n",
      "Epoch 32/60\n",
      "13126/13126 [==============================] - 35s 3ms/step - loss: 0.8588 - accuracy: 0.5871 - val_loss: 0.8563 - val_accuracy: 0.5897\n",
      "Epoch 33/60\n",
      "13126/13126 [==============================] - 35s 3ms/step - loss: 0.8613 - accuracy: 0.5870 - val_loss: 0.8557 - val_accuracy: 0.5865\n",
      "Epoch 34/60\n",
      "13126/13126 [==============================] - 35s 3ms/step - loss: 0.8589 - accuracy: 0.5876 - val_loss: 0.8594 - val_accuracy: 0.5890\n",
      "Epoch 35/60\n",
      "13126/13126 [==============================] - 35s 3ms/step - loss: 0.8592 - accuracy: 0.5888 - val_loss: 0.8549 - val_accuracy: 0.5928\n",
      "Epoch 36/60\n",
      "13126/13126 [==============================] - 30s 2ms/step - loss: 0.8588 - accuracy: 0.5885 - val_loss: 0.8536 - val_accuracy: 0.5923\n",
      "Epoch 37/60\n",
      "13126/13126 [==============================] - 30s 2ms/step - loss: 0.8583 - accuracy: 0.5886 - val_loss: 0.8541 - val_accuracy: 0.5924\n",
      "Epoch 38/60\n",
      "13126/13126 [==============================] - 30s 2ms/step - loss: 0.8569 - accuracy: 0.5903 - val_loss: 0.8587 - val_accuracy: 0.5888\n",
      "Epoch 39/60\n",
      "13126/13126 [==============================] - 30s 2ms/step - loss: 0.8599 - accuracy: 0.5882 - val_loss: 0.8520 - val_accuracy: 0.5929\n",
      "Epoch 40/60\n",
      "13126/13126 [==============================] - 30s 2ms/step - loss: 0.8557 - accuracy: 0.5911 - val_loss: 0.8491 - val_accuracy: 0.5949\n",
      "Epoch 41/60\n",
      "13126/13126 [==============================] - 34s 3ms/step - loss: 0.8554 - accuracy: 0.5917 - val_loss: 0.8637 - val_accuracy: 0.5869\n",
      "Epoch 42/60\n",
      "13126/13126 [==============================] - 34s 3ms/step - loss: 0.8567 - accuracy: 0.5897 - val_loss: 0.8498 - val_accuracy: 0.5942\n",
      "Epoch 43/60\n",
      "13126/13126 [==============================] - 30s 2ms/step - loss: 0.8556 - accuracy: 0.5901 - val_loss: 0.8519 - val_accuracy: 0.5907\n",
      "Epoch 44/60\n",
      "13126/13126 [==============================] - 35s 3ms/step - loss: 0.8600 - accuracy: 0.5880 - val_loss: 0.8580 - val_accuracy: 0.5883\n",
      "Epoch 45/60\n",
      "13126/13126 [==============================] - 34s 3ms/step - loss: 0.8565 - accuracy: 0.5906 - val_loss: 0.8587 - val_accuracy: 0.5866\n",
      "Epoch 46/60\n",
      "13126/13126 [==============================] - 34s 3ms/step - loss: 0.8572 - accuracy: 0.5906 - val_loss: 0.8537 - val_accuracy: 0.5932\n",
      "Epoch 47/60\n",
      "13126/13126 [==============================] - 30s 2ms/step - loss: 0.8553 - accuracy: 0.5912 - val_loss: 0.8478 - val_accuracy: 0.5959\n",
      "Epoch 48/60\n",
      "13126/13126 [==============================] - 34s 3ms/step - loss: 0.8600 - accuracy: 0.5894 - val_loss: 0.8559 - val_accuracy: 0.5930\n",
      "Epoch 49/60\n",
      "13126/13126 [==============================] - 30s 2ms/step - loss: 0.8537 - accuracy: 0.5917 - val_loss: 0.8554 - val_accuracy: 0.5899\n",
      "Epoch 50/60\n",
      "13126/13126 [==============================] - 35s 3ms/step - loss: 0.8590 - accuracy: 0.5889 - val_loss: 0.8566 - val_accuracy: 0.5902\n",
      "Epoch 51/60\n",
      "13126/13126 [==============================] - 35s 3ms/step - loss: 0.8580 - accuracy: 0.5905 - val_loss: 0.9080 - val_accuracy: 0.5683\n",
      "Epoch 52/60\n",
      "13126/13126 [==============================] - 31s 2ms/step - loss: 0.8555 - accuracy: 0.5904 - val_loss: 0.8482 - val_accuracy: 0.5954\n",
      "Epoch 53/60\n",
      "13126/13126 [==============================] - 32s 2ms/step - loss: 0.8558 - accuracy: 0.5913 - val_loss: 0.8510 - val_accuracy: 0.5937\n",
      "Epoch 54/60\n",
      "13126/13126 [==============================] - 31s 2ms/step - loss: 0.8548 - accuracy: 0.5913 - val_loss: 0.8497 - val_accuracy: 0.5942\n",
      "Epoch 55/60\n",
      "13126/13126 [==============================] - 36s 3ms/step - loss: 0.8528 - accuracy: 0.5919 - val_loss: 0.8499 - val_accuracy: 0.5948\n",
      "Epoch 56/60\n",
      "13126/13126 [==============================] - 36s 3ms/step - loss: 0.8605 - accuracy: 0.5886 - val_loss: 0.8548 - val_accuracy: 0.5911\n",
      "Epoch 57/60\n",
      "13126/13126 [==============================] - 36s 3ms/step - loss: 0.8542 - accuracy: 0.5917 - val_loss: 0.8477 - val_accuracy: 0.5963\n",
      "Epoch 58/60\n",
      "13126/13126 [==============================] - 35s 3ms/step - loss: 0.8532 - accuracy: 0.5925 - val_loss: 0.8508 - val_accuracy: 0.5932\n",
      "Epoch 59/60\n",
      "13126/13126 [==============================] - 30s 2ms/step - loss: 0.8516 - accuracy: 0.5931 - val_loss: 0.8448 - val_accuracy: 0.5992\n",
      "Epoch 60/60\n",
      "13126/13126 [==============================] - 31s 2ms/step - loss: 0.8522 - accuracy: 0.5930 - val_loss: 0.8471 - val_accuracy: 0.5965\n"
     ]
    }
   ],
   "source": [
    "history = ann.fit(\n",
    "    X_train, y_train, batch_size=32,\n",
    "    validation_data=(X_test, y_test),\n",
    "    epochs=60\n",
    ")"
   ]
  },
  {
   "cell_type": "code",
   "execution_count": null,
   "id": "203cFqG4S3XC",
   "metadata": {
    "colab": {
     "base_uri": "https://localhost:8080/",
     "height": 449
    },
    "id": "203cFqG4S3XC",
    "outputId": "1be40772-6f71-4348-accb-ebd223c7b5e8"
   },
   "outputs": [
    {
     "name": "stderr",
     "output_type": "stream",
     "text": [
      "/usr/local/lib/python3.7/dist-packages/seaborn/_decorators.py:43: FutureWarning: Pass the following variables as keyword args: x, y. From version 0.12, the only valid positional argument will be `data`, and passing other arguments without an explicit keyword will result in an error or misinterpretation.\n",
      "  FutureWarning\n",
      "/usr/local/lib/python3.7/dist-packages/seaborn/_decorators.py:43: FutureWarning: Pass the following variables as keyword args: x, y. From version 0.12, the only valid positional argument will be `data`, and passing other arguments without an explicit keyword will result in an error or misinterpretation.\n",
      "  FutureWarning\n",
      "/usr/local/lib/python3.7/dist-packages/seaborn/_decorators.py:43: FutureWarning: Pass the following variables as keyword args: x, y. From version 0.12, the only valid positional argument will be `data`, and passing other arguments without an explicit keyword will result in an error or misinterpretation.\n",
      "  FutureWarning\n",
      "/usr/local/lib/python3.7/dist-packages/seaborn/_decorators.py:43: FutureWarning: Pass the following variables as keyword args: x, y. From version 0.12, the only valid positional argument will be `data`, and passing other arguments without an explicit keyword will result in an error or misinterpretation.\n",
      "  FutureWarning\n"
     ]
    },
    {
     "data": {
      "image/png": "[encoded data removed]",
      "text/plain": [
       "<Figure size 864x288 with 2 Axes>"
      ]
     },
     "metadata": {},
     "output_type": "display_data"
    }
   ],
   "source": [
    "sns.set()\n",
    "fig = plt.figure(0, (12, 4))\n",
    "\n",
    "ax = plt.subplot(1, 2, 1)\n",
    "sns.lineplot(history.epoch, history.history['accuracy'], label='train')\n",
    "sns.lineplot(history.epoch, history.history['val_accuracy'], label='valid')\n",
    "plt.title('Accuracy')\n",
    "plt.tight_layout()\n",
    "\n",
    "ax = plt.subplot(1, 2, 2)\n",
    "sns.lineplot(history.epoch, history.history['loss'], label='train')\n",
    "sns.lineplot(history.epoch, history.history['val_loss'], label='valid')\n",
    "plt.title('Loss')\n",
    "plt.tight_layout()\n",
    "\n",
    "plt.show()"
   ]
  },
  {
   "cell_type": "code",
   "execution_count": null,
   "id": "5kHna6hbS6E8",
   "metadata": {
    "colab": {
     "base_uri": "https://localhost:8080/",
     "height": 638
    },
    "id": "5kHna6hbS6E8",
    "outputId": "400a3544-73f9-4236-f440-bb7f098565f5"
   },
   "outputs": [
    {
     "name": "stdout",
     "output_type": "stream",
     "text": [
      "test accuracy: 0.5965 %\n",
      "\n",
      "\n",
      "              precision    recall  f1-score   support\n",
      "\n",
      "           0       0.68      0.26      0.38     47778\n",
      "           1       0.55      0.56      0.56     66242\n",
      "           2       0.61      0.87      0.72     65988\n",
      "\n",
      "    accuracy                           0.60    180008\n",
      "   macro avg       0.61      0.57      0.55    180008\n",
      "weighted avg       0.61      0.60      0.57    180008\n",
      "\n"
     ]
    },
    {
     "data": {
      "image/png": "[encoded data removed]",
      "text/plain": [
       "<Figure size 504x504 with 2 Axes>"
      ]
     },
     "metadata": {},
     "output_type": "display_data"
    }
   ],
   "source": [
    "yhat_test = ann.predict(X_test)\n",
    "yhat_test = np.argmax(yhat_test, axis=1)\n",
    "#ytest_ = np.argmax(y_test, axis=1)\n",
    "#yhat_test = yhat_test > 0.5\n",
    "\n",
    "scikitplot.metrics.plot_confusion_matrix(y_test, yhat_test, figsize=(7,7))\n",
    "#pyplot.savefig(\"confusion_matrix_model3pipes.png\")\n",
    "test_accu= accuracy_score(y_test, yhat_test)\n",
    "#test_accu = np.sum(y_test == yhat_test) / len(y_test) * 100\n",
    "print(f\"test accuracy: {round(test_accu, 4)} %\\n\\n\")\n",
    "\n",
    "print(classification_report(y_test, yhat_test))"
   ]
  },
  {
   "cell_type": "code",
   "execution_count": 36,
   "id": "639097ca",
   "metadata": {
    "id": "639097ca",
    "outputId": "638948ee-e6e2-459b-f6f7-4bb12ad5bcfb"
   },
   "outputs": [
    {
     "data": {
      "text/plain": [
       "RandomForestClassifier()"
      ]
     },
     "execution_count": 36,
     "metadata": {},
     "output_type": "execute_result"
    }
   ],
   "source": [
    "RF =  RandomForestClassifier()\n",
    "RF.fit(X_train, y_train)"
   ]
  },
  {
   "cell_type": "code",
   "execution_count": 37,
   "id": "2cc945f5",
   "metadata": {
    "id": "2cc945f5"
   },
   "outputs": [],
   "source": [
    "RF_pred= RF.predict(X_test)"
   ]
  },
  {
   "cell_type": "code",
   "execution_count": 38,
   "id": "fd078abe",
   "metadata": {
    "id": "fd078abe",
    "outputId": "bd921cd7-949d-4f13-d1b5-e84c58deff48"
   },
   "outputs": [
    {
     "name": "stdout",
     "output_type": "stream",
     "text": [
      "Accuracy=  0.5518974312398771\n"
     ]
    }
   ],
   "source": [
    "AccuracyRF= accuracy_score(y_test, RF_pred)\n",
    "print('Accuracy= ', AccuracyRF)"
   ]
  },
  {
   "cell_type": "code",
   "execution_count": 39,
   "id": "bb18bb6b",
   "metadata": {
    "id": "bb18bb6b",
    "outputId": "45034343-a61a-439a-892a-1af4bb9126bb"
   },
   "outputs": [
    {
     "name": "stdout",
     "output_type": "stream",
     "text": [
      "              precision    recall  f1-score   support\n",
      "\n",
      "       Adult       0.60      0.43      0.50     66016\n",
      "         Old       0.51      0.42      0.46     66042\n",
      "       Young       0.55      0.80      0.65     66131\n",
      "\n",
      "    accuracy                           0.55    198189\n",
      "   macro avg       0.55      0.55      0.54    198189\n",
      "weighted avg       0.55      0.55      0.54    198189\n",
      "\n"
     ]
    }
   ],
   "source": [
    "print(classification_report(y_test, RF_pred, target_names=['Adult', 'Old', 'Young']))"
   ]
  },
  {
   "cell_type": "code",
   "execution_count": 40,
   "id": "f26ee91f",
   "metadata": {
    "id": "f26ee91f",
    "outputId": "15f60031-4d39-478a-e45d-44476233fbb8"
   },
   "outputs": [
    {
     "data": {
      "text/plain": [
       "<AxesSubplot:title={'center':'Confusion Matrix'}, xlabel='Predicted label', ylabel='True label'>"
      ]
     },
     "execution_count": 40,
     "metadata": {},
     "output_type": "execute_result"
    },
    {
     "data": {
      "image/png": "[encoded data removed]",
      "text/plain": [
       "<Figure size 504x504 with 2 Axes>"
      ]
     },
     "metadata": {
      "needs_background": "light"
     },
     "output_type": "display_data"
    }
   ],
   "source": [
    "scikitplot.metrics.plot_confusion_matrix(y_test, RF_pred, figsize=(7,7))"
   ]
  },
  {
   "cell_type": "code",
   "execution_count": 41,
   "id": "90f680be",
   "metadata": {
    "id": "90f680be",
    "outputId": "e9050f50-9f6e-4144-8664-c02cda133e36"
   },
   "outputs": [
    {
     "data": {
      "text/plain": [
       "GradientBoostingClassifier()"
      ]
     },
     "execution_count": 41,
     "metadata": {},
     "output_type": "execute_result"
    }
   ],
   "source": [
    "GB =  GradientBoostingClassifier()\n",
    "GB.fit(X_train, y_train)"
   ]
  },
  {
   "cell_type": "code",
   "execution_count": 42,
   "id": "044f3d19",
   "metadata": {
    "id": "044f3d19"
   },
   "outputs": [],
   "source": [
    "GB_pred= GB.predict(X_test)"
   ]
  },
  {
   "cell_type": "code",
   "execution_count": 43,
   "id": "bbcf5644",
   "metadata": {
    "id": "bbcf5644",
    "outputId": "98263f8e-f5d9-4826-ac02-58e1f9b718cf"
   },
   "outputs": [
    {
     "name": "stdout",
     "output_type": "stream",
     "text": [
      "Accuracy=  0.520649481050916\n"
     ]
    }
   ],
   "source": [
    "AccuracyGB= accuracy_score(y_test, GB_pred)\n",
    "print('Accuracy= ', AccuracyGB)"
   ]
  },
  {
   "cell_type": "code",
   "execution_count": 45,
   "id": "088894a8",
   "metadata": {
    "id": "088894a8",
    "outputId": "14e329f4-f3e9-4256-b060-5d4c941da4c7"
   },
   "outputs": [
    {
     "name": "stdout",
     "output_type": "stream",
     "text": [
      "              precision    recall  f1-score   support\n",
      "\n",
      "       Adult       0.59      0.37      0.46     66016\n",
      "         Old       0.45      0.46      0.46     66042\n",
      "       Young       0.54      0.72      0.62     66131\n",
      "\n",
      "    accuracy                           0.52    198189\n",
      "   macro avg       0.53      0.52      0.51    198189\n",
      "weighted avg       0.53      0.52      0.51    198189\n",
      "\n"
     ]
    }
   ],
   "source": [
    "print(classification_report(y_test, GB_pred, target_names=['Adult', 'Old', 'Young']))"
   ]
  },
  {
   "cell_type": "code",
   "execution_count": 46,
   "id": "afeb59ce",
   "metadata": {
    "id": "afeb59ce",
    "outputId": "cc0e0408-9a53-410f-ab4a-2edb6a2fd384"
   },
   "outputs": [
    {
     "data": {
      "text/plain": [
       "<AxesSubplot:title={'center':'Confusion Matrix'}, xlabel='Predicted label', ylabel='True label'>"
      ]
     },
     "execution_count": 46,
     "metadata": {},
     "output_type": "execute_result"
    },
    {
     "data": {
      "image/png": "[encoded data removed]",
      "text/plain": [
       "<Figure size 504x504 with 2 Axes>"
      ]
     },
     "metadata": {
      "needs_background": "light"
     },
     "output_type": "display_data"
    }
   ],
   "source": [
    "scikitplot.metrics.plot_confusion_matrix(y_test, GB_pred, figsize=(7,7))"
   ]
  },
  {
   "cell_type": "code",
   "execution_count": 47,
   "id": "0df74c28",
   "metadata": {
    "id": "0df74c28",
    "outputId": "aacdcb89-ebde-453f-8367-392e5780f708"
   },
   "outputs": [
    {
     "data": {
      "text/plain": [
       "DecisionTreeClassifier()"
      ]
     },
     "execution_count": 47,
     "metadata": {},
     "output_type": "execute_result"
    }
   ],
   "source": [
    "DT =  DecisionTreeClassifier()\n",
    "DT.fit(X_train, y_train)"
   ]
  },
  {
   "cell_type": "code",
   "execution_count": 48,
   "id": "c8eee916",
   "metadata": {
    "id": "c8eee916"
   },
   "outputs": [],
   "source": [
    "DT_pred= DT.predict(X_test)"
   ]
  },
  {
   "cell_type": "code",
   "execution_count": 49,
   "id": "28442f7d",
   "metadata": {
    "id": "28442f7d",
    "outputId": "e48428b0-3614-4f46-9a48-ee5ec5bbb26c"
   },
   "outputs": [
    {
     "name": "stdout",
     "output_type": "stream",
     "text": [
      "Accuracy=  0.5506309633733456\n"
     ]
    }
   ],
   "source": [
    "AccuracyDT= accuracy_score(y_test, DT_pred)\n",
    "print('Accuracy= ', AccuracyDT)"
   ]
  },
  {
   "cell_type": "code",
   "execution_count": 50,
   "id": "0dc87776",
   "metadata": {
    "id": "0dc87776",
    "outputId": "c895e8ab-6e23-4d63-938e-79454768992e"
   },
   "outputs": [
    {
     "name": "stdout",
     "output_type": "stream",
     "text": [
      "              precision    recall  f1-score   support\n",
      "\n",
      "       Adult       0.60      0.44      0.51     66016\n",
      "         Old       0.51      0.41      0.45     66042\n",
      "       Young       0.55      0.80      0.65     66131\n",
      "\n",
      "    accuracy                           0.55    198189\n",
      "   macro avg       0.55      0.55      0.54    198189\n",
      "weighted avg       0.55      0.55      0.54    198189\n",
      "\n"
     ]
    }
   ],
   "source": [
    "print(classification_report(y_test, DT_pred, target_names=['Adult', 'Old', 'Young']))"
   ]
  },
  {
   "cell_type": "code",
   "execution_count": 51,
   "id": "38a54c92",
   "metadata": {
    "id": "38a54c92",
    "outputId": "a2a214e1-92da-4d2b-8927-b21e79089de5"
   },
   "outputs": [
    {
     "data": {
      "text/plain": [
       "<AxesSubplot:title={'center':'Confusion Matrix'}, xlabel='Predicted label', ylabel='True label'>"
      ]
     },
     "execution_count": 51,
     "metadata": {},
     "output_type": "execute_result"
    },
    {
     "data": {
      "image/png": "[encoded data removed]",
      "text/plain": [
       "<Figure size 504x504 with 2 Axes>"
      ]
     },
     "metadata": {
      "needs_background": "light"
     },
     "output_type": "display_data"
    }
   ],
   "source": [
    "scikitplot.metrics.plot_confusion_matrix(y_test, DT_pred, figsize=(7,7))"
   ]
  },
  {
   "cell_type": "code",
   "execution_count": null,
   "id": "0155116a",
   "metadata": {
    "id": "0155116a"
   },
   "outputs": [],
   "source": []
  }
 ],
 "metadata": {
  "colab": {
   "collapsed_sections": [],
   "name": "Code.ipynb",
   "provenance": []
  },
  "kernelspec": {
   "display_name": "Python 3 (ipykernel)",
   "language": "python",
   "name": "python3"
  },
  "language_info": {
   "codemirror_mode": {
    "name": "ipython",
    "version": 3
   },
   "file_extension": ".py",
   "mimetype": "text/x-python",
   "name": "python",
   "nbconvert_exporter": "python",
   "pygments_lexer": "ipython3",
   "version": "3.9.13"
  }
 },
 "nbformat": 4,
 "nbformat_minor": 5
}
